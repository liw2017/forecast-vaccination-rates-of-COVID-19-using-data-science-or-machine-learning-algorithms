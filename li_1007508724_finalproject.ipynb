{
 "cells": [
  {
   "cell_type": "code",
   "execution_count": 93,
   "metadata": {},
   "outputs": [
    {
     "data": {
      "text/plain": [
       "'\\nFinal PRoject Report and Code\\nname: Wenxin Li\\nID: 1007508724\\n'"
      ]
     },
     "execution_count": 93,
     "metadata": {},
     "output_type": "execute_result"
    }
   ],
   "source": [
    "'''\n",
    "Final PRoject Report and Code\n",
    "name: Wenxin Li\n",
    "ID: 1007508724\n",
    "'''"
   ]
  },
  {
   "cell_type": "code",
   "execution_count": 2,
   "metadata": {},
   "outputs": [
    {
     "name": "stdout",
     "output_type": "stream",
     "text": [
      "Requirement already satisfied: plotly in c:\\users\\asus\\anaconda3\\lib\\site-packages (5.4.0)\n",
      "Requirement already satisfied: six in c:\\users\\asus\\anaconda3\\lib\\site-packages (from plotly) (1.15.0)\n",
      "Requirement already satisfied: tenacity>=6.2.0 in c:\\users\\asus\\anaconda3\\lib\\site-packages (from plotly) (8.0.1)\n",
      "Requirement already satisfied: pmdarima in c:\\users\\asus\\anaconda3\\lib\\site-packages (1.8.4)\n",
      "Requirement already satisfied: scipy>=1.3.2 in c:\\users\\asus\\anaconda3\\lib\\site-packages (from pmdarima) (1.7.1)\n",
      "Requirement already satisfied: numpy>=1.19.3 in c:\\users\\asus\\anaconda3\\lib\\site-packages (from pmdarima) (1.20.1)\n",
      "Requirement already satisfied: Cython!=0.29.18,>=0.29 in c:\\users\\asus\\anaconda3\\lib\\site-packages (from pmdarima) (0.29.23)\n",
      "Requirement already satisfied: statsmodels!=0.12.0,>=0.11 in c:\\users\\asus\\appdata\\roaming\\python\\python38\\site-packages (from pmdarima) (0.13.1)\n",
      "Requirement already satisfied: urllib3 in c:\\users\\asus\\anaconda3\\lib\\site-packages (from pmdarima) (1.26.4)\n",
      "Requirement already satisfied: joblib>=0.11 in c:\\users\\asus\\anaconda3\\lib\\site-packages (from pmdarima) (1.0.1)\n",
      "Requirement already satisfied: pandas>=0.19 in c:\\users\\asus\\anaconda3\\lib\\site-packages (from pmdarima) (1.2.4)\n",
      "Requirement already satisfied: setuptools!=50.0.0,>=38.6.0 in c:\\users\\asus\\anaconda3\\lib\\site-packages (from pmdarima) (52.0.0.post20210125)\n",
      "Requirement already satisfied: scikit-learn>=0.22 in c:\\users\\asus\\anaconda3\\lib\\site-packages (from pmdarima) (0.24.1)\n",
      "Requirement already satisfied: pytz>=2017.3 in c:\\users\\asus\\anaconda3\\lib\\site-packages (from pandas>=0.19->pmdarima) (2021.1)\n",
      "Requirement already satisfied: python-dateutil>=2.7.3 in c:\\users\\asus\\anaconda3\\lib\\site-packages (from pandas>=0.19->pmdarima) (2.8.1)\n",
      "Requirement already satisfied: six>=1.5 in c:\\users\\asus\\anaconda3\\lib\\site-packages (from python-dateutil>=2.7.3->pandas>=0.19->pmdarima) (1.15.0)\n",
      "Requirement already satisfied: threadpoolctl>=2.0.0 in c:\\users\\asus\\anaconda3\\lib\\site-packages (from scikit-learn>=0.22->pmdarima) (2.1.0)\n",
      "Requirement already satisfied: patsy>=0.5.2 in c:\\users\\asus\\appdata\\roaming\\python\\python38\\site-packages (from statsmodels!=0.12.0,>=0.11->pmdarima) (0.5.2)\n",
      "Requirement already satisfied: statsmodels in c:\\users\\asus\\appdata\\roaming\\python\\python38\\site-packages (0.13.1)\n",
      "Requirement already satisfied: scipy>=1.3 in c:\\users\\asus\\anaconda3\\lib\\site-packages (from statsmodels) (1.7.1)\n",
      "Requirement already satisfied: numpy>=1.17 in c:\\users\\asus\\anaconda3\\lib\\site-packages (from statsmodels) (1.20.1)\n",
      "Requirement already satisfied: patsy>=0.5.2 in c:\\users\\asus\\appdata\\roaming\\python\\python38\\site-packages (from statsmodels) (0.5.2)\n",
      "Requirement already satisfied: pandas>=0.25 in c:\\users\\asus\\anaconda3\\lib\\site-packages (from statsmodels) (1.2.4)\n",
      "Requirement already satisfied: python-dateutil>=2.7.3 in c:\\users\\asus\\anaconda3\\lib\\site-packages (from pandas>=0.25->statsmodels) (2.8.1)\n",
      "Requirement already satisfied: pytz>=2017.3 in c:\\users\\asus\\anaconda3\\lib\\site-packages (from pandas>=0.25->statsmodels) (2021.1)\n",
      "Requirement already satisfied: six in c:\\users\\asus\\anaconda3\\lib\\site-packages (from patsy>=0.5.2->statsmodels) (1.15.0)\n"
     ]
    }
   ],
   "source": [
    "!pip install plotly\n",
    "!pip install pmdarima\n",
    "!pip install statsmodels"
   ]
  },
  {
   "cell_type": "code",
   "execution_count": 3,
   "metadata": {
    "colab": {
     "base_uri": "https://localhost:8080/"
    },
    "id": "PPRMcyJPFsaG",
    "outputId": "a9ac6943-dc0c-4e6b-df0d-cd8e5508541e"
   },
   "outputs": [],
   "source": [
    "import numpy as np, pandas as pd\n",
    "from IPython.display import Image\n",
    "import matplotlib.pyplot as plt, seaborn as sns\n",
    "import scipy\n",
    "import warnings\n",
    "import plotly.express as px\n",
    "from itertools import product\n",
    "import statsmodels.api as sm\n",
    "import datetime\n",
    "from tqdm import tqdm\n",
    "from sklearn.model_selection import train_test_split \n",
    "from sklearn.linear_model import LinearRegression\n",
    "from sklearn import metrics\n",
    "%matplotlib inline\n",
    "\n",
    "from statsmodels.tsa.arima.model import ARIMA\n",
    "import pmdarima as pm\n",
    "from sklearn.preprocessing import PowerTransformer\n",
    "\n",
    "#from google.colab import files\n",
    "import io\n",
    "from scipy.stats import mannwhitneyu\n",
    "warnings.filterwarnings('ignore')"
   ]
  },
  {
   "cell_type": "code",
   "execution_count": 4,
   "metadata": {},
   "outputs": [
    {
     "name": "stdout",
     "output_type": "stream",
     "text": [
      "0.13.1\n"
     ]
    }
   ],
   "source": [
    "import statsmodels\n",
    "print(statsmodels.__version__)"
   ]
  },
  {
   "cell_type": "markdown",
   "metadata": {
    "id": "gzdKpzMRGc_x"
   },
   "source": [
    "# Load the data set"
   ]
  },
  {
   "cell_type": "code",
   "execution_count": 5,
   "metadata": {
    "colab": {
     "base_uri": "https://localhost:8080/",
     "height": 387,
     "resources": {
      "http://localhost:8080/nbextensions/google.colab/files.js": {
       "data": "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",
       "headers": [
        [
         "content-type",
         "application/javascript"
        ]
       ],
       "ok": true,
       "status": 200,
       "status_text": ""
      }
     }
    },
    "id": "LaADKSG-GiOl",
    "outputId": "514d96ab-fd31-4c46-ebc0-80c788bc0326"
   },
   "outputs": [
    {
     "name": "stdout",
     "output_type": "stream",
     "text": [
      "Shape of data (63006, 16)\n"
     ]
    },
    {
     "data": {
      "text/html": [
       "<div>\n",
       "<style scoped>\n",
       "    .dataframe tbody tr th:only-of-type {\n",
       "        vertical-align: middle;\n",
       "    }\n",
       "\n",
       "    .dataframe tbody tr th {\n",
       "        vertical-align: top;\n",
       "    }\n",
       "\n",
       "    .dataframe thead th {\n",
       "        text-align: right;\n",
       "    }\n",
       "</style>\n",
       "<table border=\"1\" class=\"dataframe\">\n",
       "  <thead>\n",
       "    <tr style=\"text-align: right;\">\n",
       "      <th></th>\n",
       "      <th>location</th>\n",
       "      <th>iso_code</th>\n",
       "      <th>date</th>\n",
       "      <th>total_vaccinations</th>\n",
       "      <th>people_vaccinated</th>\n",
       "      <th>people_fully_vaccinated</th>\n",
       "      <th>total_boosters</th>\n",
       "      <th>daily_vaccinations_raw</th>\n",
       "      <th>daily_vaccinations</th>\n",
       "      <th>total_vaccinations_per_hundred</th>\n",
       "      <th>people_vaccinated_per_hundred</th>\n",
       "      <th>people_fully_vaccinated_per_hundred</th>\n",
       "      <th>total_boosters_per_hundred</th>\n",
       "      <th>daily_vaccinations_per_million</th>\n",
       "      <th>daily_people_vaccinated</th>\n",
       "      <th>daily_people_vaccinated_per_hundred</th>\n",
       "    </tr>\n",
       "  </thead>\n",
       "  <tbody>\n",
       "    <tr>\n",
       "      <th>0</th>\n",
       "      <td>Afghanistan</td>\n",
       "      <td>AFG</td>\n",
       "      <td>2021-02-22</td>\n",
       "      <td>0.0</td>\n",
       "      <td>0.0</td>\n",
       "      <td>NaN</td>\n",
       "      <td>NaN</td>\n",
       "      <td>NaN</td>\n",
       "      <td>NaN</td>\n",
       "      <td>0.0</td>\n",
       "      <td>0.0</td>\n",
       "      <td>NaN</td>\n",
       "      <td>NaN</td>\n",
       "      <td>NaN</td>\n",
       "      <td>NaN</td>\n",
       "      <td>NaN</td>\n",
       "    </tr>\n",
       "    <tr>\n",
       "      <th>1</th>\n",
       "      <td>Afghanistan</td>\n",
       "      <td>AFG</td>\n",
       "      <td>2021-02-23</td>\n",
       "      <td>NaN</td>\n",
       "      <td>NaN</td>\n",
       "      <td>NaN</td>\n",
       "      <td>NaN</td>\n",
       "      <td>NaN</td>\n",
       "      <td>1367.0</td>\n",
       "      <td>NaN</td>\n",
       "      <td>NaN</td>\n",
       "      <td>NaN</td>\n",
       "      <td>NaN</td>\n",
       "      <td>34.0</td>\n",
       "      <td>1367.0</td>\n",
       "      <td>0.003</td>\n",
       "    </tr>\n",
       "    <tr>\n",
       "      <th>2</th>\n",
       "      <td>Afghanistan</td>\n",
       "      <td>AFG</td>\n",
       "      <td>2021-02-24</td>\n",
       "      <td>NaN</td>\n",
       "      <td>NaN</td>\n",
       "      <td>NaN</td>\n",
       "      <td>NaN</td>\n",
       "      <td>NaN</td>\n",
       "      <td>1367.0</td>\n",
       "      <td>NaN</td>\n",
       "      <td>NaN</td>\n",
       "      <td>NaN</td>\n",
       "      <td>NaN</td>\n",
       "      <td>34.0</td>\n",
       "      <td>1367.0</td>\n",
       "      <td>0.003</td>\n",
       "    </tr>\n",
       "    <tr>\n",
       "      <th>3</th>\n",
       "      <td>Afghanistan</td>\n",
       "      <td>AFG</td>\n",
       "      <td>2021-02-25</td>\n",
       "      <td>NaN</td>\n",
       "      <td>NaN</td>\n",
       "      <td>NaN</td>\n",
       "      <td>NaN</td>\n",
       "      <td>NaN</td>\n",
       "      <td>1367.0</td>\n",
       "      <td>NaN</td>\n",
       "      <td>NaN</td>\n",
       "      <td>NaN</td>\n",
       "      <td>NaN</td>\n",
       "      <td>34.0</td>\n",
       "      <td>1367.0</td>\n",
       "      <td>0.003</td>\n",
       "    </tr>\n",
       "    <tr>\n",
       "      <th>4</th>\n",
       "      <td>Afghanistan</td>\n",
       "      <td>AFG</td>\n",
       "      <td>2021-02-26</td>\n",
       "      <td>NaN</td>\n",
       "      <td>NaN</td>\n",
       "      <td>NaN</td>\n",
       "      <td>NaN</td>\n",
       "      <td>NaN</td>\n",
       "      <td>1367.0</td>\n",
       "      <td>NaN</td>\n",
       "      <td>NaN</td>\n",
       "      <td>NaN</td>\n",
       "      <td>NaN</td>\n",
       "      <td>34.0</td>\n",
       "      <td>1367.0</td>\n",
       "      <td>0.003</td>\n",
       "    </tr>\n",
       "  </tbody>\n",
       "</table>\n",
       "</div>"
      ],
      "text/plain": [
       "      location iso_code        date  total_vaccinations  people_vaccinated  \\\n",
       "0  Afghanistan      AFG  2021-02-22                 0.0                0.0   \n",
       "1  Afghanistan      AFG  2021-02-23                 NaN                NaN   \n",
       "2  Afghanistan      AFG  2021-02-24                 NaN                NaN   \n",
       "3  Afghanistan      AFG  2021-02-25                 NaN                NaN   \n",
       "4  Afghanistan      AFG  2021-02-26                 NaN                NaN   \n",
       "\n",
       "   people_fully_vaccinated  total_boosters  daily_vaccinations_raw  \\\n",
       "0                      NaN             NaN                     NaN   \n",
       "1                      NaN             NaN                     NaN   \n",
       "2                      NaN             NaN                     NaN   \n",
       "3                      NaN             NaN                     NaN   \n",
       "4                      NaN             NaN                     NaN   \n",
       "\n",
       "   daily_vaccinations  total_vaccinations_per_hundred  \\\n",
       "0                 NaN                             0.0   \n",
       "1              1367.0                             NaN   \n",
       "2              1367.0                             NaN   \n",
       "3              1367.0                             NaN   \n",
       "4              1367.0                             NaN   \n",
       "\n",
       "   people_vaccinated_per_hundred  people_fully_vaccinated_per_hundred  \\\n",
       "0                            0.0                                  NaN   \n",
       "1                            NaN                                  NaN   \n",
       "2                            NaN                                  NaN   \n",
       "3                            NaN                                  NaN   \n",
       "4                            NaN                                  NaN   \n",
       "\n",
       "   total_boosters_per_hundred  daily_vaccinations_per_million  \\\n",
       "0                         NaN                             NaN   \n",
       "1                         NaN                            34.0   \n",
       "2                         NaN                            34.0   \n",
       "3                         NaN                            34.0   \n",
       "4                         NaN                            34.0   \n",
       "\n",
       "   daily_people_vaccinated  daily_people_vaccinated_per_hundred  \n",
       "0                      NaN                                  NaN  \n",
       "1                   1367.0                                0.003  \n",
       "2                   1367.0                                0.003  \n",
       "3                   1367.0                                0.003  \n",
       "4                   1367.0                                0.003  "
      ]
     },
     "execution_count": 5,
     "metadata": {},
     "output_type": "execute_result"
    }
   ],
   "source": [
    "# loading the dataset \n",
    "df = pd.read_csv('Covid19-vaccination.csv')\n",
    "print('Shape of data',df.shape)\n",
    "#see the first five of our dataframe\n",
    "df.head()"
   ]
  },
  {
   "cell_type": "markdown",
   "metadata": {},
   "source": [
    "# 1. Data Cleaning\n",
    "check out if we have any missing data in our dataset."
   ]
  },
  {
   "cell_type": "code",
   "execution_count": 6,
   "metadata": {
    "colab": {
     "base_uri": "https://localhost:8080/"
    },
    "id": "nI1O10QCHTU7",
    "outputId": "7e739b30-8e62-4163-8e28-418748265899"
   },
   "outputs": [
    {
     "data": {
      "text/plain": [
       "location                                   0\n",
       "iso_code                                   0\n",
       "date                                       0\n",
       "total_vaccinations                     27277\n",
       "people_vaccinated                      28883\n",
       "people_fully_vaccinated                31853\n",
       "total_boosters                         56393\n",
       "daily_vaccinations_raw                 33083\n",
       "daily_vaccinations                       326\n",
       "total_vaccinations_per_hundred         27277\n",
       "people_vaccinated_per_hundred          28883\n",
       "people_fully_vaccinated_per_hundred    31853\n",
       "total_boosters_per_hundred             56393\n",
       "daily_vaccinations_per_million           326\n",
       "daily_people_vaccinated                 1558\n",
       "daily_people_vaccinated_per_hundred     1558\n",
       "dtype: int64"
      ]
     },
     "execution_count": 6,
     "metadata": {},
     "output_type": "execute_result"
    }
   ],
   "source": [
    "df.isna().sum()"
   ]
  },
  {
   "cell_type": "markdown",
   "metadata": {},
   "source": [
    "I drop total_vaccinations missing data, because without this value any raw doesn't make much sense."
   ]
  },
  {
   "cell_type": "code",
   "execution_count": 7,
   "metadata": {
    "colab": {
     "base_uri": "https://localhost:8080/"
    },
    "id": "WO9DdkaXHTdw",
    "outputId": "e062f1a1-d7f5-41db-ff0e-f7fdd75be15e"
   },
   "outputs": [
    {
     "data": {
      "text/plain": [
       "location                                   0\n",
       "iso_code                                   0\n",
       "date                                       0\n",
       "total_vaccinations                         0\n",
       "people_vaccinated                       1879\n",
       "people_fully_vaccinated                 4751\n",
       "total_boosters                         29169\n",
       "daily_vaccinations_raw                  5806\n",
       "daily_vaccinations                       235\n",
       "total_vaccinations_per_hundred             0\n",
       "people_vaccinated_per_hundred           1879\n",
       "people_fully_vaccinated_per_hundred     4751\n",
       "total_boosters_per_hundred             29169\n",
       "daily_vaccinations_per_million           235\n",
       "daily_people_vaccinated                  882\n",
       "daily_people_vaccinated_per_hundred      882\n",
       "dtype: int64"
      ]
     },
     "execution_count": 7,
     "metadata": {},
     "output_type": "execute_result"
    }
   ],
   "source": [
    "df_clean = df.drop(df[df.total_vaccinations.isna()].index)\n",
    "df_clean.isna().sum()"
   ]
  },
  {
   "cell_type": "markdown",
   "metadata": {},
   "source": [
    "## people_vaccinated"
   ]
  },
  {
   "cell_type": "markdown",
   "metadata": {},
   "source": [
    "Use pd.Dataframe.corr() and Mann-Whitney U test to check out which features have the same distribution with people_vaccinated.\n",
    "And first, we need to drop all the NA in the people_vaccinated and its compared features."
   ]
  },
  {
   "cell_type": "code",
   "execution_count": 8,
   "metadata": {
    "colab": {
     "base_uri": "https://localhost:8080/",
     "height": 1000
    },
    "id": "MZ0x_KdLWMh9",
    "outputId": "4d58a5fb-d46c-4d25-c822-6001e4afa34e"
   },
   "outputs": [
    {
     "data": {
      "text/html": [
       "<div>\n",
       "<style scoped>\n",
       "    .dataframe tbody tr th:only-of-type {\n",
       "        vertical-align: middle;\n",
       "    }\n",
       "\n",
       "    .dataframe tbody tr th {\n",
       "        vertical-align: top;\n",
       "    }\n",
       "\n",
       "    .dataframe thead th {\n",
       "        text-align: right;\n",
       "    }\n",
       "</style>\n",
       "<table border=\"1\" class=\"dataframe\">\n",
       "  <thead>\n",
       "    <tr style=\"text-align: right;\">\n",
       "      <th></th>\n",
       "      <th>location</th>\n",
       "      <th>iso_code</th>\n",
       "      <th>date</th>\n",
       "      <th>total_vaccinations</th>\n",
       "      <th>people_vaccinated</th>\n",
       "      <th>people_fully_vaccinated</th>\n",
       "      <th>total_boosters</th>\n",
       "      <th>daily_vaccinations_raw</th>\n",
       "      <th>daily_vaccinations</th>\n",
       "      <th>total_vaccinations_per_hundred</th>\n",
       "      <th>people_vaccinated_per_hundred</th>\n",
       "      <th>people_fully_vaccinated_per_hundred</th>\n",
       "      <th>total_boosters_per_hundred</th>\n",
       "      <th>daily_vaccinations_per_million</th>\n",
       "      <th>daily_people_vaccinated</th>\n",
       "      <th>daily_people_vaccinated_per_hundred</th>\n",
       "    </tr>\n",
       "  </thead>\n",
       "  <tbody>\n",
       "    <tr>\n",
       "      <th>0</th>\n",
       "      <td>Afghanistan</td>\n",
       "      <td>AFG</td>\n",
       "      <td>2021-02-22</td>\n",
       "      <td>0.0</td>\n",
       "      <td>0.0</td>\n",
       "      <td>NaN</td>\n",
       "      <td>NaN</td>\n",
       "      <td>NaN</td>\n",
       "      <td>NaN</td>\n",
       "      <td>0.00</td>\n",
       "      <td>0.00</td>\n",
       "      <td>NaN</td>\n",
       "      <td>NaN</td>\n",
       "      <td>NaN</td>\n",
       "      <td>NaN</td>\n",
       "      <td>NaN</td>\n",
       "    </tr>\n",
       "    <tr>\n",
       "      <th>6</th>\n",
       "      <td>Afghanistan</td>\n",
       "      <td>AFG</td>\n",
       "      <td>2021-02-28</td>\n",
       "      <td>8200.0</td>\n",
       "      <td>8200.0</td>\n",
       "      <td>NaN</td>\n",
       "      <td>NaN</td>\n",
       "      <td>NaN</td>\n",
       "      <td>1367.0</td>\n",
       "      <td>0.02</td>\n",
       "      <td>0.02</td>\n",
       "      <td>NaN</td>\n",
       "      <td>NaN</td>\n",
       "      <td>34.0</td>\n",
       "      <td>1367.0</td>\n",
       "      <td>0.003</td>\n",
       "    </tr>\n",
       "    <tr>\n",
       "      <th>22</th>\n",
       "      <td>Afghanistan</td>\n",
       "      <td>AFG</td>\n",
       "      <td>2021-03-16</td>\n",
       "      <td>54000.0</td>\n",
       "      <td>54000.0</td>\n",
       "      <td>NaN</td>\n",
       "      <td>NaN</td>\n",
       "      <td>NaN</td>\n",
       "      <td>2862.0</td>\n",
       "      <td>0.14</td>\n",
       "      <td>0.14</td>\n",
       "      <td>NaN</td>\n",
       "      <td>NaN</td>\n",
       "      <td>72.0</td>\n",
       "      <td>2862.0</td>\n",
       "      <td>0.007</td>\n",
       "    </tr>\n",
       "    <tr>\n",
       "      <th>44</th>\n",
       "      <td>Afghanistan</td>\n",
       "      <td>AFG</td>\n",
       "      <td>2021-04-07</td>\n",
       "      <td>120000.0</td>\n",
       "      <td>120000.0</td>\n",
       "      <td>NaN</td>\n",
       "      <td>NaN</td>\n",
       "      <td>NaN</td>\n",
       "      <td>3000.0</td>\n",
       "      <td>0.30</td>\n",
       "      <td>0.30</td>\n",
       "      <td>NaN</td>\n",
       "      <td>NaN</td>\n",
       "      <td>75.0</td>\n",
       "      <td>3000.0</td>\n",
       "      <td>0.008</td>\n",
       "    </tr>\n",
       "    <tr>\n",
       "      <th>59</th>\n",
       "      <td>Afghanistan</td>\n",
       "      <td>AFG</td>\n",
       "      <td>2021-04-22</td>\n",
       "      <td>240000.0</td>\n",
       "      <td>240000.0</td>\n",
       "      <td>NaN</td>\n",
       "      <td>NaN</td>\n",
       "      <td>NaN</td>\n",
       "      <td>8000.0</td>\n",
       "      <td>0.60</td>\n",
       "      <td>0.60</td>\n",
       "      <td>NaN</td>\n",
       "      <td>NaN</td>\n",
       "      <td>201.0</td>\n",
       "      <td>8000.0</td>\n",
       "      <td>0.020</td>\n",
       "    </tr>\n",
       "  </tbody>\n",
       "</table>\n",
       "</div>"
      ],
      "text/plain": [
       "       location iso_code        date  total_vaccinations  people_vaccinated  \\\n",
       "0   Afghanistan      AFG  2021-02-22                 0.0                0.0   \n",
       "6   Afghanistan      AFG  2021-02-28              8200.0             8200.0   \n",
       "22  Afghanistan      AFG  2021-03-16             54000.0            54000.0   \n",
       "44  Afghanistan      AFG  2021-04-07            120000.0           120000.0   \n",
       "59  Afghanistan      AFG  2021-04-22            240000.0           240000.0   \n",
       "\n",
       "    people_fully_vaccinated  total_boosters  daily_vaccinations_raw  \\\n",
       "0                       NaN             NaN                     NaN   \n",
       "6                       NaN             NaN                     NaN   \n",
       "22                      NaN             NaN                     NaN   \n",
       "44                      NaN             NaN                     NaN   \n",
       "59                      NaN             NaN                     NaN   \n",
       "\n",
       "    daily_vaccinations  total_vaccinations_per_hundred  \\\n",
       "0                  NaN                            0.00   \n",
       "6               1367.0                            0.02   \n",
       "22              2862.0                            0.14   \n",
       "44              3000.0                            0.30   \n",
       "59              8000.0                            0.60   \n",
       "\n",
       "    people_vaccinated_per_hundred  people_fully_vaccinated_per_hundred  \\\n",
       "0                            0.00                                  NaN   \n",
       "6                            0.02                                  NaN   \n",
       "22                           0.14                                  NaN   \n",
       "44                           0.30                                  NaN   \n",
       "59                           0.60                                  NaN   \n",
       "\n",
       "    total_boosters_per_hundred  daily_vaccinations_per_million  \\\n",
       "0                          NaN                             NaN   \n",
       "6                          NaN                            34.0   \n",
       "22                         NaN                            72.0   \n",
       "44                         NaN                            75.0   \n",
       "59                         NaN                           201.0   \n",
       "\n",
       "    daily_people_vaccinated  daily_people_vaccinated_per_hundred  \n",
       "0                       NaN                                  NaN  \n",
       "6                    1367.0                                0.003  \n",
       "22                   2862.0                                0.007  \n",
       "44                   3000.0                                0.008  \n",
       "59                   8000.0                                0.020  "
      ]
     },
     "execution_count": 8,
     "metadata": {},
     "output_type": "execute_result"
    }
   ],
   "source": [
    "check_df = df.drop(df[df.total_vaccinations.isna()].index)\n",
    "check_df = check_df.drop(check_df[check_df.people_vaccinated.isna()].index)\n",
    "check_df.head()"
   ]
  },
  {
   "cell_type": "code",
   "execution_count": 9,
   "metadata": {
    "colab": {
     "base_uri": "https://localhost:8080/",
     "height": 629
    },
    "id": "7YZb_s8CHTlr",
    "outputId": "760187e9-7d7a-41cf-d2ac-631c4ae54639"
   },
   "outputs": [
    {
     "data": {
      "image/png": "[encoded data removed]",
      "text/plain": [
       "<Figure size 576x576 with 2 Axes>"
      ]
     },
     "metadata": {
      "needs_background": "light"
     },
     "output_type": "display_data"
    }
   ],
   "source": [
    "plt.subplots(figsize=(8, 8))\n",
    "sns.heatmap(check_df.corr(), annot=True, square=True)\n",
    "plt.show()"
   ]
  },
  {
   "cell_type": "code",
   "execution_count": 10,
   "metadata": {},
   "outputs": [
    {
     "data": {
      "text/plain": [
       "MannwhitneyuResult(statistic=523806931.0, pvalue=4.1602872837396384e-83)"
      ]
     },
     "execution_count": 10,
     "metadata": {},
     "output_type": "execute_result"
    }
   ],
   "source": [
    "#pair of total_vaccinations & people_vaccinated \n",
    "mannwhitneyu(check_df.people_vaccinated,check_df.total_vaccinations)"
   ]
  },
  {
   "cell_type": "markdown",
   "metadata": {},
   "source": [
    "According to p value of total_vaccinations & people_vaccinated is lower than 0.05, I cannot find the same distribution between total_vaccinations and people_vaccinated. So, use 0 to fill NA in people_vaccinated. "
   ]
  },
  {
   "cell_type": "code",
   "execution_count": 11,
   "metadata": {},
   "outputs": [],
   "source": [
    "df_clean.people_vaccinated = df_clean.people_vaccinated.fillna(0)"
   ]
  },
  {
   "cell_type": "code",
   "execution_count": 12,
   "metadata": {},
   "outputs": [
    {
     "data": {
      "text/plain": [
       "location                                   0\n",
       "iso_code                                   0\n",
       "date                                       0\n",
       "total_vaccinations                         0\n",
       "people_vaccinated                          0\n",
       "people_fully_vaccinated                 4751\n",
       "total_boosters                         29169\n",
       "daily_vaccinations_raw                  5806\n",
       "daily_vaccinations                       235\n",
       "total_vaccinations_per_hundred             0\n",
       "people_vaccinated_per_hundred           1879\n",
       "people_fully_vaccinated_per_hundred     4751\n",
       "total_boosters_per_hundred             29169\n",
       "daily_vaccinations_per_million           235\n",
       "daily_people_vaccinated                  882\n",
       "daily_people_vaccinated_per_hundred      882\n",
       "dtype: int64"
      ]
     },
     "execution_count": 12,
     "metadata": {},
     "output_type": "execute_result"
    }
   ],
   "source": [
    "df_clean.isna().sum()"
   ]
  },
  {
   "cell_type": "markdown",
   "metadata": {},
   "source": [
    "## people_fully_vaccinated"
   ]
  },
  {
   "cell_type": "markdown",
   "metadata": {},
   "source": [
    "Delete all NA in people_fully_vaccinated and its relevant columns(total_vaccinations and people_vaccinated) and check the p_value "
   ]
  },
  {
   "cell_type": "code",
   "execution_count": 13,
   "metadata": {},
   "outputs": [
    {
     "data": {
      "text/plain": [
       "MannwhitneyuResult(statistic=592928748.5, pvalue=0.0)"
      ]
     },
     "execution_count": 13,
     "metadata": {},
     "output_type": "execute_result"
    }
   ],
   "source": [
    "#pair of total_vaccinations & people_fully_vaccinated\n",
    "check_df = df.drop(df[df.total_vaccinations.isna()].index)\n",
    "check_df = check_df.drop(check_df[check_df.people_fully_vaccinated.isna()].index)\n",
    "mannwhitneyu(check_df.total_vaccinations,check_df.people_fully_vaccinated)"
   ]
  },
  {
   "cell_type": "code",
   "execution_count": 14,
   "metadata": {},
   "outputs": [
    {
     "data": {
      "text/plain": [
       "MannwhitneyuResult(statistic=544923038.0, pvalue=3.560451063057542e-224)"
      ]
     },
     "execution_count": 14,
     "metadata": {},
     "output_type": "execute_result"
    }
   ],
   "source": [
    "#pair of people_vaccinated & people_fully_vaccinated\n",
    "check_df = df.drop(df[df.people_vaccinated.isna()].index)\n",
    "check_df = check_df.drop(check_df[check_df.people_fully_vaccinated.isna()].index)\n",
    "mannwhitneyu(check_df.people_vaccinated,check_df.people_fully_vaccinated)"
   ]
  },
  {
   "cell_type": "markdown",
   "metadata": {},
   "source": [
    "According to p value of total_vaccinations & people_fully_vaccinated and p value of people_vaccinated & people_fully_vaccinated are both lower than 0.05, I cannot find the same distribution among total_vaccinations,people_vaccinated, and people_fully_vaccinated. \n",
    "So, use 0 to fill NA in people_fully_vaccinated."
   ]
  },
  {
   "cell_type": "code",
   "execution_count": 15,
   "metadata": {},
   "outputs": [],
   "source": [
    "df_clean.people_fully_vaccinated = df_clean.people_fully_vaccinated.fillna(0)"
   ]
  },
  {
   "cell_type": "code",
   "execution_count": 16,
   "metadata": {},
   "outputs": [
    {
     "data": {
      "text/plain": [
       "location                                   0\n",
       "iso_code                                   0\n",
       "date                                       0\n",
       "total_vaccinations                         0\n",
       "people_vaccinated                          0\n",
       "people_fully_vaccinated                    0\n",
       "total_boosters                         29169\n",
       "daily_vaccinations_raw                  5806\n",
       "daily_vaccinations                       235\n",
       "total_vaccinations_per_hundred             0\n",
       "people_vaccinated_per_hundred           1879\n",
       "people_fully_vaccinated_per_hundred     4751\n",
       "total_boosters_per_hundred             29169\n",
       "daily_vaccinations_per_million           235\n",
       "daily_people_vaccinated                  882\n",
       "daily_people_vaccinated_per_hundred      882\n",
       "dtype: int64"
      ]
     },
     "execution_count": 16,
     "metadata": {},
     "output_type": "execute_result"
    }
   ],
   "source": [
    "df_clean.isna().sum()"
   ]
  },
  {
   "cell_type": "markdown",
   "metadata": {},
   "source": [
    "## daily_vaccinations_raw & daily_vaccinations"
   ]
  },
  {
   "cell_type": "markdown",
   "metadata": {},
   "source": [
    "According to the heatmap, daily_vaccinations_raw get a high correlation with daily_vaccinations, I check the p value between them."
   ]
  },
  {
   "cell_type": "code",
   "execution_count": 17,
   "metadata": {},
   "outputs": [
    {
     "data": {
      "text/plain": [
       "MannwhitneyuResult(statistic=436662889.5, pvalue=1.7924498806068453e-07)"
      ]
     },
     "execution_count": 17,
     "metadata": {},
     "output_type": "execute_result"
    }
   ],
   "source": [
    "#pair of daily_vaccinations_raw & daily_vaccinations\n",
    "check_df = df.drop(df[df.daily_vaccinations_raw.isna()].index)\n",
    "check_df = check_df.drop(check_df[check_df.daily_vaccinations.isna()].index)\n",
    "mannwhitneyu(check_df.daily_vaccinations_raw,check_df.daily_vaccinations)"
   ]
  },
  {
   "cell_type": "markdown",
   "metadata": {},
   "source": [
    "p_value of daily_vaccinations_raw & daily_vaccinations is 1.7924498806068453e-07 lower than 0.05 which means the hypothesis doesn't hold. The distribution between daily_vaccinations_raw and daily_vaccinations is different. So, I use 0 to fill NA in daily_vaccinations_raw and daily_vaccinations."
   ]
  },
  {
   "cell_type": "code",
   "execution_count": 18,
   "metadata": {},
   "outputs": [],
   "source": [
    "df_clean.daily_vaccinations_raw = df_clean.daily_vaccinations_raw.fillna(0)\n",
    "df_clean.daily_vaccinations = df_clean.daily_vaccinations.fillna(0)"
   ]
  },
  {
   "cell_type": "code",
   "execution_count": 19,
   "metadata": {},
   "outputs": [
    {
     "data": {
      "text/plain": [
       "location                                   0\n",
       "iso_code                                   0\n",
       "date                                       0\n",
       "total_vaccinations                         0\n",
       "people_vaccinated                          0\n",
       "people_fully_vaccinated                    0\n",
       "total_boosters                         29169\n",
       "daily_vaccinations_raw                     0\n",
       "daily_vaccinations                         0\n",
       "total_vaccinations_per_hundred             0\n",
       "people_vaccinated_per_hundred           1879\n",
       "people_fully_vaccinated_per_hundred     4751\n",
       "total_boosters_per_hundred             29169\n",
       "daily_vaccinations_per_million           235\n",
       "daily_people_vaccinated                  882\n",
       "daily_people_vaccinated_per_hundred      882\n",
       "dtype: int64"
      ]
     },
     "execution_count": 19,
     "metadata": {},
     "output_type": "execute_result"
    }
   ],
   "source": [
    "df_clean.isna().sum()"
   ]
  },
  {
   "cell_type": "markdown",
   "metadata": {},
   "source": [
    "## people_vaccinated_per_hundred"
   ]
  },
  {
   "cell_type": "code",
   "execution_count": 20,
   "metadata": {},
   "outputs": [
    {
     "data": {
      "text/plain": [
       "MannwhitneyuResult(statistic=693196150.5, pvalue=0.0)"
      ]
     },
     "execution_count": 20,
     "metadata": {},
     "output_type": "execute_result"
    }
   ],
   "source": [
    "#pair of total_vaccinations_per_hundred & people_vaccinated_per_hundred\n",
    "check_df = df.drop(df[df.total_vaccinations_per_hundred.isna()].index)\n",
    "check_df = check_df.drop(check_df[check_df.people_vaccinated_per_hundred.isna()].index)\n",
    "mannwhitneyu(check_df.total_vaccinations_per_hundred,check_df.people_vaccinated_per_hundred)"
   ]
  },
  {
   "cell_type": "markdown",
   "metadata": {},
   "source": [
    "According to p_value of total_vaccinations_per_hundred & people_vaccinated_per_hundred is 0 (lower than 0.05), hypothesis between these two features doesn't hold. The distribution between daily_vaccinations_raw and daily_vaccinations is different. So, I use 0 to fill NA in people_vaccinated_per_hundred."
   ]
  },
  {
   "cell_type": "code",
   "execution_count": 21,
   "metadata": {},
   "outputs": [],
   "source": [
    "df_clean.people_vaccinated_per_hundred = df_clean.people_vaccinated_per_hundred.fillna(0)"
   ]
  },
  {
   "cell_type": "code",
   "execution_count": 22,
   "metadata": {},
   "outputs": [
    {
     "data": {
      "text/plain": [
       "location                                   0\n",
       "iso_code                                   0\n",
       "date                                       0\n",
       "total_vaccinations                         0\n",
       "people_vaccinated                          0\n",
       "people_fully_vaccinated                    0\n",
       "total_boosters                         29169\n",
       "daily_vaccinations_raw                     0\n",
       "daily_vaccinations                         0\n",
       "total_vaccinations_per_hundred             0\n",
       "people_vaccinated_per_hundred              0\n",
       "people_fully_vaccinated_per_hundred     4751\n",
       "total_boosters_per_hundred             29169\n",
       "daily_vaccinations_per_million           235\n",
       "daily_people_vaccinated                  882\n",
       "daily_people_vaccinated_per_hundred      882\n",
       "dtype: int64"
      ]
     },
     "execution_count": 22,
     "metadata": {},
     "output_type": "execute_result"
    }
   ],
   "source": [
    "df_clean.isna().sum()"
   ]
  },
  {
   "cell_type": "markdown",
   "metadata": {},
   "source": [
    "## people_fully_vaccinated_per_hundred"
   ]
  },
  {
   "cell_type": "code",
   "execution_count": 23,
   "metadata": {},
   "outputs": [
    {
     "data": {
      "text/plain": [
       "MannwhitneyuResult(statistic=672019225.0, pvalue=0.0)"
      ]
     },
     "execution_count": 23,
     "metadata": {},
     "output_type": "execute_result"
    }
   ],
   "source": [
    "# pair of total_vaccinations_per_hundred & people_fully_vaccinated_per_hundred\n",
    "check_df = df.drop(df[df.total_vaccinations_per_hundred.isna()].index)\n",
    "check_df = check_df.drop(check_df[check_df.people_fully_vaccinated_per_hundred.isna()].index)\n",
    "mannwhitneyu(check_df.total_vaccinations_per_hundred,check_df.people_fully_vaccinated_per_hundred)"
   ]
  },
  {
   "cell_type": "code",
   "execution_count": 24,
   "metadata": {},
   "outputs": [
    {
     "data": {
      "text/plain": [
       "MannwhitneyuResult(statistic=579247371.0, pvalue=0.0)"
      ]
     },
     "execution_count": 24,
     "metadata": {},
     "output_type": "execute_result"
    }
   ],
   "source": [
    "# pair of people_vaccinated_per_hundred & people_fully_vaccinated_per_hundred\n",
    "check_df = df.drop(df[df.people_vaccinated_per_hundred.isna()].index)\n",
    "check_df = check_df.drop(check_df[check_df.people_fully_vaccinated_per_hundred.isna()].index)\n",
    "mannwhitneyu(check_df.people_vaccinated_per_hundred,check_df.people_fully_vaccinated_per_hundred)"
   ]
  },
  {
   "cell_type": "markdown",
   "metadata": {},
   "source": [
    "P_value of total_vaccinations_per_hundred & people_fully_vaccinated_per_hundred and people_vaccinated_per_hundred & people_fully_vaccinated_per_hundred are both 0, the distribution among these three features are different. Fill NA with 0 in people_fully_vaccinated_per_hundred."
   ]
  },
  {
   "cell_type": "code",
   "execution_count": 25,
   "metadata": {},
   "outputs": [],
   "source": [
    "df_clean.people_fully_vaccinated_per_hundred = df_clean.people_fully_vaccinated_per_hundred.fillna(0)"
   ]
  },
  {
   "cell_type": "code",
   "execution_count": 26,
   "metadata": {},
   "outputs": [
    {
     "data": {
      "text/plain": [
       "location                                   0\n",
       "iso_code                                   0\n",
       "date                                       0\n",
       "total_vaccinations                         0\n",
       "people_vaccinated                          0\n",
       "people_fully_vaccinated                    0\n",
       "total_boosters                         29169\n",
       "daily_vaccinations_raw                     0\n",
       "daily_vaccinations                         0\n",
       "total_vaccinations_per_hundred             0\n",
       "people_vaccinated_per_hundred              0\n",
       "people_fully_vaccinated_per_hundred        0\n",
       "total_boosters_per_hundred             29169\n",
       "daily_vaccinations_per_million           235\n",
       "daily_people_vaccinated                  882\n",
       "daily_people_vaccinated_per_hundred      882\n",
       "dtype: int64"
      ]
     },
     "execution_count": 26,
     "metadata": {},
     "output_type": "execute_result"
    }
   ],
   "source": [
    "df_clean.isna().sum()"
   ]
  },
  {
   "cell_type": "markdown",
   "metadata": {},
   "source": [
    "## Other Features"
   ]
  },
  {
   "cell_type": "markdown",
   "metadata": {},
   "source": [
    "These features they have no correlate columns(corr() is higher than 0.9) in heatmap, directly fill NA with 0 in chese columns."
   ]
  },
  {
   "cell_type": "code",
   "execution_count": 27,
   "metadata": {},
   "outputs": [],
   "source": [
    "#fill NA with 0 in these features\n",
    "df_clean.total_boosters = df_clean.total_boosters.fillna(0)\n",
    "df_clean.total_boosters_per_hundred = df_clean.total_boosters_per_hundred.fillna(0)\n",
    "df_clean.daily_vaccinations_per_million = df_clean.daily_vaccinations_per_million.fillna(0)\n",
    "df_clean.daily_people_vaccinated = df_clean.daily_people_vaccinated.fillna(0)\n",
    "df_clean.daily_people_vaccinated_per_hundred = df_clean.daily_people_vaccinated_per_hundred.fillna(0)"
   ]
  },
  {
   "cell_type": "code",
   "execution_count": 28,
   "metadata": {},
   "outputs": [
    {
     "data": {
      "text/plain": [
       "location                               0\n",
       "iso_code                               0\n",
       "date                                   0\n",
       "total_vaccinations                     0\n",
       "people_vaccinated                      0\n",
       "people_fully_vaccinated                0\n",
       "total_boosters                         0\n",
       "daily_vaccinations_raw                 0\n",
       "daily_vaccinations                     0\n",
       "total_vaccinations_per_hundred         0\n",
       "people_vaccinated_per_hundred          0\n",
       "people_fully_vaccinated_per_hundred    0\n",
       "total_boosters_per_hundred             0\n",
       "daily_vaccinations_per_million         0\n",
       "daily_people_vaccinated                0\n",
       "daily_people_vaccinated_per_hundred    0\n",
       "dtype: int64"
      ]
     },
     "execution_count": 28,
     "metadata": {},
     "output_type": "execute_result"
    }
   ],
   "source": [
    "#final check whether still have NA in each column\n",
    "df_clean.isna().sum()"
   ]
  },
  {
   "cell_type": "markdown",
   "metadata": {},
   "source": [
    "# 2. Data Visualization and Exploratory Data Analysis "
   ]
  },
  {
   "cell_type": "markdown",
   "metadata": {},
   "source": [
    "## 2.1 Top 10 most vaccinated countries"
   ]
  },
  {
   "cell_type": "code",
   "execution_count": 29,
   "metadata": {},
   "outputs": [
    {
     "data": {
      "text/plain": [
       "World                  356\n",
       "Europe                 356\n",
       "High income            356\n",
       "Norway                 351\n",
       "European Union         345\n",
       "North America          344\n",
       "United States          344\n",
       "Canada                 343\n",
       "Latvia                 343\n",
       "Asia                   339\n",
       "Israel                 338\n",
       "Switzerland            336\n",
       "Liechtenstein          336\n",
       "Upper middle income    333\n",
       "South America          333\n",
       "Chile                  332\n",
       "Lithuania              330\n",
       "Czechia                330\n",
       "Estonia                330\n",
       "Slovenia               330\n",
       "Name: location, dtype: int64"
      ]
     },
     "execution_count": 29,
     "metadata": {},
     "output_type": "execute_result"
    }
   ],
   "source": [
    "#check location type in the datasset\n",
    "df_clean.location.value_counts().head(20)"
   ]
  },
  {
   "cell_type": "markdown",
   "metadata": {},
   "source": [
    "According to the location table, I find out that there are three different types of locations which are countries, income level, and continents. I need first delete income level and continents, then I can get top 10 most vaccinated countries."
   ]
  },
  {
   "cell_type": "code",
   "execution_count": 30,
   "metadata": {},
   "outputs": [
    {
     "data": {
      "text/html": [
       "<div>\n",
       "<style scoped>\n",
       "    .dataframe tbody tr th:only-of-type {\n",
       "        vertical-align: middle;\n",
       "    }\n",
       "\n",
       "    .dataframe tbody tr th {\n",
       "        vertical-align: top;\n",
       "    }\n",
       "\n",
       "    .dataframe thead th {\n",
       "        text-align: right;\n",
       "    }\n",
       "</style>\n",
       "<table border=\"1\" class=\"dataframe\">\n",
       "  <thead>\n",
       "    <tr style=\"text-align: right;\">\n",
       "      <th></th>\n",
       "      <th>location</th>\n",
       "      <th>people_vaccinated</th>\n",
       "    </tr>\n",
       "  </thead>\n",
       "  <tbody>\n",
       "    <tr>\n",
       "      <th>0</th>\n",
       "      <td>World</td>\n",
       "      <td>4.197512e+09</td>\n",
       "    </tr>\n",
       "    <tr>\n",
       "      <th>1</th>\n",
       "      <td>Asia</td>\n",
       "      <td>2.882381e+09</td>\n",
       "    </tr>\n",
       "    <tr>\n",
       "      <th>2</th>\n",
       "      <td>Upper middle income</td>\n",
       "      <td>1.883448e+09</td>\n",
       "    </tr>\n",
       "    <tr>\n",
       "      <th>3</th>\n",
       "      <td>Lower middle income</td>\n",
       "      <td>1.390193e+09</td>\n",
       "    </tr>\n",
       "    <tr>\n",
       "      <th>4</th>\n",
       "      <td>China</td>\n",
       "      <td>1.225000e+09</td>\n",
       "    </tr>\n",
       "    <tr>\n",
       "      <th>5</th>\n",
       "      <td>High income</td>\n",
       "      <td>8.904829e+08</td>\n",
       "    </tr>\n",
       "    <tr>\n",
       "      <th>6</th>\n",
       "      <td>India</td>\n",
       "      <td>7.669880e+08</td>\n",
       "    </tr>\n",
       "    <tr>\n",
       "      <th>7</th>\n",
       "      <td>Europe</td>\n",
       "      <td>4.622119e+08</td>\n",
       "    </tr>\n",
       "    <tr>\n",
       "      <th>8</th>\n",
       "      <td>North America</td>\n",
       "      <td>3.780404e+08</td>\n",
       "    </tr>\n",
       "    <tr>\n",
       "      <th>9</th>\n",
       "      <td>European Union</td>\n",
       "      <td>3.131338e+08</td>\n",
       "    </tr>\n",
       "    <tr>\n",
       "      <th>10</th>\n",
       "      <td>South America</td>\n",
       "      <td>3.102394e+08</td>\n",
       "    </tr>\n",
       "    <tr>\n",
       "      <th>11</th>\n",
       "      <td>United States</td>\n",
       "      <td>2.302987e+08</td>\n",
       "    </tr>\n",
       "    <tr>\n",
       "      <th>12</th>\n",
       "      <td>Brazil</td>\n",
       "      <td>1.624368e+08</td>\n",
       "    </tr>\n",
       "    <tr>\n",
       "      <th>13</th>\n",
       "      <td>Africa</td>\n",
       "      <td>1.392699e+08</td>\n",
       "    </tr>\n",
       "    <tr>\n",
       "      <th>14</th>\n",
       "      <td>Indonesia</td>\n",
       "      <td>1.344183e+08</td>\n",
       "    </tr>\n",
       "  </tbody>\n",
       "</table>\n",
       "</div>"
      ],
      "text/plain": [
       "               location  people_vaccinated\n",
       "0                 World       4.197512e+09\n",
       "1                  Asia       2.882381e+09\n",
       "2   Upper middle income       1.883448e+09\n",
       "3   Lower middle income       1.390193e+09\n",
       "4                 China       1.225000e+09\n",
       "5           High income       8.904829e+08\n",
       "6                 India       7.669880e+08\n",
       "7                Europe       4.622119e+08\n",
       "8         North America       3.780404e+08\n",
       "9        European Union       3.131338e+08\n",
       "10        South America       3.102394e+08\n",
       "11        United States       2.302987e+08\n",
       "12               Brazil       1.624368e+08\n",
       "13               Africa       1.392699e+08\n",
       "14            Indonesia       1.344183e+08"
      ]
     },
     "metadata": {},
     "output_type": "display_data"
    }
   ],
   "source": [
    "# Groupby df location and then sorting the data by the max value of people_vaccinated from highest to lowest\n",
    "top_total_vaccinations = df_clean.groupby('location').people_vaccinated.max().sort_values(ascending=False)\n",
    "total_vaccinations_f = top_total_vaccinations.dropna(axis=0).reset_index() # Dropping NaN values\n",
    "display(total_vaccinations_f.head(15))"
   ]
  },
  {
   "cell_type": "code",
   "execution_count": 31,
   "metadata": {},
   "outputs": [
    {
     "data": {
      "text/html": [
       "<div>\n",
       "<style scoped>\n",
       "    .dataframe tbody tr th:only-of-type {\n",
       "        vertical-align: middle;\n",
       "    }\n",
       "\n",
       "    .dataframe tbody tr th {\n",
       "        vertical-align: top;\n",
       "    }\n",
       "\n",
       "    .dataframe thead th {\n",
       "        text-align: right;\n",
       "    }\n",
       "</style>\n",
       "<table border=\"1\" class=\"dataframe\">\n",
       "  <thead>\n",
       "    <tr style=\"text-align: right;\">\n",
       "      <th></th>\n",
       "      <th>location</th>\n",
       "      <th>people_vaccinated</th>\n",
       "    </tr>\n",
       "  </thead>\n",
       "  <tbody>\n",
       "    <tr>\n",
       "      <th>0</th>\n",
       "      <td>China</td>\n",
       "      <td>1.225000e+09</td>\n",
       "    </tr>\n",
       "    <tr>\n",
       "      <th>1</th>\n",
       "      <td>India</td>\n",
       "      <td>7.669880e+08</td>\n",
       "    </tr>\n",
       "    <tr>\n",
       "      <th>2</th>\n",
       "      <td>United States</td>\n",
       "      <td>2.302987e+08</td>\n",
       "    </tr>\n",
       "    <tr>\n",
       "      <th>3</th>\n",
       "      <td>Brazil</td>\n",
       "      <td>1.624368e+08</td>\n",
       "    </tr>\n",
       "    <tr>\n",
       "      <th>4</th>\n",
       "      <td>Indonesia</td>\n",
       "      <td>1.344183e+08</td>\n",
       "    </tr>\n",
       "    <tr>\n",
       "      <th>5</th>\n",
       "      <td>Japan</td>\n",
       "      <td>9.954649e+07</td>\n",
       "    </tr>\n",
       "    <tr>\n",
       "      <th>6</th>\n",
       "      <td>Pakistan</td>\n",
       "      <td>7.884517e+07</td>\n",
       "    </tr>\n",
       "    <tr>\n",
       "      <th>7</th>\n",
       "      <td>Mexico</td>\n",
       "      <td>7.586211e+07</td>\n",
       "    </tr>\n",
       "    <tr>\n",
       "      <th>8</th>\n",
       "      <td>Vietnam</td>\n",
       "      <td>6.670689e+07</td>\n",
       "    </tr>\n",
       "    <tr>\n",
       "      <th>9</th>\n",
       "      <td>Russia</td>\n",
       "      <td>6.349654e+07</td>\n",
       "    </tr>\n",
       "  </tbody>\n",
       "</table>\n",
       "</div>"
      ],
      "text/plain": [
       "        location  people_vaccinated\n",
       "0          China       1.225000e+09\n",
       "1          India       7.669880e+08\n",
       "2  United States       2.302987e+08\n",
       "3         Brazil       1.624368e+08\n",
       "4      Indonesia       1.344183e+08\n",
       "5          Japan       9.954649e+07\n",
       "6       Pakistan       7.884517e+07\n",
       "7         Mexico       7.586211e+07\n",
       "8        Vietnam       6.670689e+07\n",
       "9         Russia       6.349654e+07"
      ]
     },
     "metadata": {},
     "output_type": "display_data"
    }
   ],
   "source": [
    "#delete all index of World,income level, and continents and display top 10 locatios again\n",
    "total_vaccinations_f = total_vaccinations_f.drop(index = [0,1,2,3,5,7,8,9,10,13]).reset_index().drop(columns='index')\n",
    "display(total_vaccinations_f.head(10))"
   ]
  },
  {
   "cell_type": "code",
   "execution_count": 32,
   "metadata": {},
   "outputs": [
    {
     "data": {
      "image/png": "[encoded data removed]",
      "text/plain": [
       "<Figure size 1080x648 with 1 Axes>"
      ]
     },
     "metadata": {
      "needs_background": "light"
     },
     "output_type": "display_data"
    }
   ],
   "source": [
    "# Plotting a barplot for data viz using matplotlib and seaborn\n",
    "plt.figure(figsize=(15, 9))\n",
    "plt.title('Top 10 Most Vaccinated Locations(by amount of people vaccinated)')\n",
    "sns.barplot(x=total_vaccinations_f.location[0:10], y=total_vaccinations_f['people_vaccinated'])\n",
    "plt.xlabel('Location')\n",
    "plt.xticks(rotation=10)\n",
    "plt.ylabel('Amount of people vaccinated (in millions)');"
   ]
  },
  {
   "cell_type": "markdown",
   "metadata": {},
   "source": [
    "Observing the figure, we can find that the number of total vaccinations in the first two countries, China and India, is much larger than that of other countries. But because these two countries also have a large population, this may lead to a high maximum population vaccination value. I need to continue to explore the details of vaccine expansion to check whether the vaccination plans in these two countries are really good."
   ]
  },
  {
   "cell_type": "markdown",
   "metadata": {},
   "source": [
    "## 2.2 Which locations have the most effective vaccination programme?"
   ]
  },
  {
   "cell_type": "code",
   "execution_count": 33,
   "metadata": {},
   "outputs": [
    {
     "data": {
      "text/html": [
       "<div>\n",
       "<style scoped>\n",
       "    .dataframe tbody tr th:only-of-type {\n",
       "        vertical-align: middle;\n",
       "    }\n",
       "\n",
       "    .dataframe tbody tr th {\n",
       "        vertical-align: top;\n",
       "    }\n",
       "\n",
       "    .dataframe thead th {\n",
       "        text-align: right;\n",
       "    }\n",
       "</style>\n",
       "<table border=\"1\" class=\"dataframe\">\n",
       "  <thead>\n",
       "    <tr style=\"text-align: right;\">\n",
       "      <th></th>\n",
       "      <th>location</th>\n",
       "      <th>daily_vaccinations</th>\n",
       "    </tr>\n",
       "  </thead>\n",
       "  <tbody>\n",
       "    <tr>\n",
       "      <th>0</th>\n",
       "      <td>World</td>\n",
       "      <td>43233999.0</td>\n",
       "    </tr>\n",
       "    <tr>\n",
       "      <th>1</th>\n",
       "      <td>Asia</td>\n",
       "      <td>33335736.0</td>\n",
       "    </tr>\n",
       "    <tr>\n",
       "      <th>2</th>\n",
       "      <td>Upper middle income</td>\n",
       "      <td>27439252.0</td>\n",
       "    </tr>\n",
       "    <tr>\n",
       "      <th>3</th>\n",
       "      <td>China</td>\n",
       "      <td>22424286.0</td>\n",
       "    </tr>\n",
       "    <tr>\n",
       "      <th>4</th>\n",
       "      <td>Lower middle income</td>\n",
       "      <td>16674499.0</td>\n",
       "    </tr>\n",
       "    <tr>\n",
       "      <th>5</th>\n",
       "      <td>India</td>\n",
       "      <td>10037995.0</td>\n",
       "    </tr>\n",
       "    <tr>\n",
       "      <th>6</th>\n",
       "      <td>High income</td>\n",
       "      <td>8397153.0</td>\n",
       "    </tr>\n",
       "    <tr>\n",
       "      <th>7</th>\n",
       "      <td>Europe</td>\n",
       "      <td>5128678.0</td>\n",
       "    </tr>\n",
       "    <tr>\n",
       "      <th>8</th>\n",
       "      <td>North America</td>\n",
       "      <td>4173238.0</td>\n",
       "    </tr>\n",
       "    <tr>\n",
       "      <th>9</th>\n",
       "      <td>European Union</td>\n",
       "      <td>4075834.0</td>\n",
       "    </tr>\n",
       "    <tr>\n",
       "      <th>10</th>\n",
       "      <td>South America</td>\n",
       "      <td>4055800.0</td>\n",
       "    </tr>\n",
       "    <tr>\n",
       "      <th>11</th>\n",
       "      <td>United States</td>\n",
       "      <td>3499189.0</td>\n",
       "    </tr>\n",
       "    <tr>\n",
       "      <th>12</th>\n",
       "      <td>Brazil</td>\n",
       "      <td>2595170.0</td>\n",
       "    </tr>\n",
       "    <tr>\n",
       "      <th>13</th>\n",
       "      <td>Africa</td>\n",
       "      <td>2030907.0</td>\n",
       "    </tr>\n",
       "    <tr>\n",
       "      <th>14</th>\n",
       "      <td>Japan</td>\n",
       "      <td>1997542.0</td>\n",
       "    </tr>\n",
       "    <tr>\n",
       "      <th>15</th>\n",
       "      <td>Indonesia</td>\n",
       "      <td>1901294.0</td>\n",
       "    </tr>\n",
       "    <tr>\n",
       "      <th>16</th>\n",
       "      <td>Mexico</td>\n",
       "      <td>1648223.0</td>\n",
       "    </tr>\n",
       "    <tr>\n",
       "      <th>17</th>\n",
       "      <td>Vietnam</td>\n",
       "      <td>1632517.0</td>\n",
       "    </tr>\n",
       "    <tr>\n",
       "      <th>18</th>\n",
       "      <td>Bangladesh</td>\n",
       "      <td>1502924.0</td>\n",
       "    </tr>\n",
       "    <tr>\n",
       "      <th>19</th>\n",
       "      <td>Pakistan</td>\n",
       "      <td>1280906.0</td>\n",
       "    </tr>\n",
       "  </tbody>\n",
       "</table>\n",
       "</div>"
      ],
      "text/plain": [
       "               location  daily_vaccinations\n",
       "0                 World          43233999.0\n",
       "1                  Asia          33335736.0\n",
       "2   Upper middle income          27439252.0\n",
       "3                 China          22424286.0\n",
       "4   Lower middle income          16674499.0\n",
       "5                 India          10037995.0\n",
       "6           High income           8397153.0\n",
       "7                Europe           5128678.0\n",
       "8         North America           4173238.0\n",
       "9        European Union           4075834.0\n",
       "10        South America           4055800.0\n",
       "11        United States           3499189.0\n",
       "12               Brazil           2595170.0\n",
       "13               Africa           2030907.0\n",
       "14                Japan           1997542.0\n",
       "15            Indonesia           1901294.0\n",
       "16               Mexico           1648223.0\n",
       "17              Vietnam           1632517.0\n",
       "18           Bangladesh           1502924.0\n",
       "19             Pakistan           1280906.0"
      ]
     },
     "metadata": {},
     "output_type": "display_data"
    }
   ],
   "source": [
    "# Grouping the data by country and then sorting the data by the max value from highest to lowest\n",
    "top_daily = df_clean.groupby('location').daily_vaccinations.max().sort_values(ascending=False)\n",
    "top_daily_f = top_daily.dropna(axis='rows').reset_index() # Dropping NaN values\n",
    "display(top_daily_f.head(20))"
   ]
  },
  {
   "cell_type": "code",
   "execution_count": 34,
   "metadata": {},
   "outputs": [
    {
     "data": {
      "text/html": [
       "<div>\n",
       "<style scoped>\n",
       "    .dataframe tbody tr th:only-of-type {\n",
       "        vertical-align: middle;\n",
       "    }\n",
       "\n",
       "    .dataframe tbody tr th {\n",
       "        vertical-align: top;\n",
       "    }\n",
       "\n",
       "    .dataframe thead th {\n",
       "        text-align: right;\n",
       "    }\n",
       "</style>\n",
       "<table border=\"1\" class=\"dataframe\">\n",
       "  <thead>\n",
       "    <tr style=\"text-align: right;\">\n",
       "      <th></th>\n",
       "      <th>location</th>\n",
       "      <th>daily_vaccinations</th>\n",
       "    </tr>\n",
       "  </thead>\n",
       "  <tbody>\n",
       "    <tr>\n",
       "      <th>0</th>\n",
       "      <td>China</td>\n",
       "      <td>22424286.0</td>\n",
       "    </tr>\n",
       "    <tr>\n",
       "      <th>1</th>\n",
       "      <td>India</td>\n",
       "      <td>10037995.0</td>\n",
       "    </tr>\n",
       "    <tr>\n",
       "      <th>2</th>\n",
       "      <td>United States</td>\n",
       "      <td>3499189.0</td>\n",
       "    </tr>\n",
       "    <tr>\n",
       "      <th>3</th>\n",
       "      <td>Brazil</td>\n",
       "      <td>2595170.0</td>\n",
       "    </tr>\n",
       "    <tr>\n",
       "      <th>4</th>\n",
       "      <td>Japan</td>\n",
       "      <td>1997542.0</td>\n",
       "    </tr>\n",
       "    <tr>\n",
       "      <th>5</th>\n",
       "      <td>Indonesia</td>\n",
       "      <td>1901294.0</td>\n",
       "    </tr>\n",
       "    <tr>\n",
       "      <th>6</th>\n",
       "      <td>Mexico</td>\n",
       "      <td>1648223.0</td>\n",
       "    </tr>\n",
       "    <tr>\n",
       "      <th>7</th>\n",
       "      <td>Vietnam</td>\n",
       "      <td>1632517.0</td>\n",
       "    </tr>\n",
       "    <tr>\n",
       "      <th>8</th>\n",
       "      <td>Bangladesh</td>\n",
       "      <td>1502924.0</td>\n",
       "    </tr>\n",
       "    <tr>\n",
       "      <th>9</th>\n",
       "      <td>Pakistan</td>\n",
       "      <td>1280906.0</td>\n",
       "    </tr>\n",
       "  </tbody>\n",
       "</table>\n",
       "</div>"
      ],
      "text/plain": [
       "        location  daily_vaccinations\n",
       "0          China          22424286.0\n",
       "1          India          10037995.0\n",
       "2  United States           3499189.0\n",
       "3         Brazil           2595170.0\n",
       "4          Japan           1997542.0\n",
       "5      Indonesia           1901294.0\n",
       "6         Mexico           1648223.0\n",
       "7        Vietnam           1632517.0\n",
       "8     Bangladesh           1502924.0\n",
       "9       Pakistan           1280906.0"
      ]
     },
     "metadata": {},
     "output_type": "display_data"
    }
   ],
   "source": [
    "#delete all index of World,income level, and continents and display top 10 locatios again\n",
    "top_daily_f = top_daily_f.drop(index = [0,1,2,4,6,7,8,9,10,13]).reset_index().drop(columns='index')\n",
    "display(top_daily_f.head(10))"
   ]
  },
  {
   "cell_type": "code",
   "execution_count": 35,
   "metadata": {},
   "outputs": [
    {
     "data": {
      "image/png": "[encoded data removed]",
      "text/plain": [
       "<Figure size 1440x720 with 1 Axes>"
      ]
     },
     "metadata": {
      "needs_background": "light"
     },
     "output_type": "display_data"
    }
   ],
   "source": [
    "# Plotting the data\n",
    "with sns.plotting_context('notebook', font_scale = 1.25):\n",
    "    plt.figure(figsize=(20, 10))\n",
    "    plt.title('The Top 10 Best Performing Locations in daily vaccinations')\n",
    "    sns.barplot(x=top_daily_f.location[0:10], y=top_daily_f.daily_vaccinations[0:10])\n",
    "    plt.xlabel('Location')\n",
    "    plt.ylabel('Number of daily vaccinations (in millions)');"
   ]
  },
  {
   "cell_type": "markdown",
   "metadata": {},
   "source": [
    "This figure is very close to the previous figure. The first four countries are exactly the same. The difference is that the positions of Indonesia and Japan have changed. In addition, Bangladesh, instead of Russia, entered the top 10 countries in this figure.\n",
    "With this result, we can know that the countries that have a large population do have an effective vaccination program. "
   ]
  },
  {
   "cell_type": "markdown",
   "metadata": {},
   "source": [
    "## 2.3 Top 10 locations have the most people fully vaccinated per hundred "
   ]
  },
  {
   "cell_type": "markdown",
   "metadata": {},
   "source": [
    "Knowing that countries with more vaccinations also have effective vaccine plans, we also want to know the country’s vaccination ratio. Do these vaccinated countries have a high rate of vaccination?"
   ]
  },
  {
   "cell_type": "markdown",
   "metadata": {},
   "source": [
    "In order to solve this problem, I need to analyze the data of people_fully_vaccinated_per_hundred."
   ]
  },
  {
   "cell_type": "code",
   "execution_count": 36,
   "metadata": {},
   "outputs": [
    {
     "data": {
      "text/html": [
       "<div>\n",
       "<style scoped>\n",
       "    .dataframe tbody tr th:only-of-type {\n",
       "        vertical-align: middle;\n",
       "    }\n",
       "\n",
       "    .dataframe tbody tr th {\n",
       "        vertical-align: top;\n",
       "    }\n",
       "\n",
       "    .dataframe thead th {\n",
       "        text-align: right;\n",
       "    }\n",
       "</style>\n",
       "<table border=\"1\" class=\"dataframe\">\n",
       "  <thead>\n",
       "    <tr style=\"text-align: right;\">\n",
       "      <th></th>\n",
       "      <th>location</th>\n",
       "      <th>people_fully_vaccinated_per_hundred</th>\n",
       "    </tr>\n",
       "  </thead>\n",
       "  <tbody>\n",
       "    <tr>\n",
       "      <th>0</th>\n",
       "      <td>Gibraltar</td>\n",
       "      <td>118.18</td>\n",
       "    </tr>\n",
       "    <tr>\n",
       "      <th>1</th>\n",
       "      <td>Pitcairn</td>\n",
       "      <td>100.00</td>\n",
       "    </tr>\n",
       "    <tr>\n",
       "      <th>2</th>\n",
       "      <td>Singapore</td>\n",
       "      <td>91.91</td>\n",
       "    </tr>\n",
       "    <tr>\n",
       "      <th>3</th>\n",
       "      <td>United Arab Emirates</td>\n",
       "      <td>88.40</td>\n",
       "    </tr>\n",
       "    <tr>\n",
       "      <th>4</th>\n",
       "      <td>Portugal</td>\n",
       "      <td>87.78</td>\n",
       "    </tr>\n",
       "    <tr>\n",
       "      <th>5</th>\n",
       "      <td>Malta</td>\n",
       "      <td>83.59</td>\n",
       "    </tr>\n",
       "    <tr>\n",
       "      <th>6</th>\n",
       "      <td>Chile</td>\n",
       "      <td>82.97</td>\n",
       "    </tr>\n",
       "    <tr>\n",
       "      <th>7</th>\n",
       "      <td>Cayman Islands</td>\n",
       "      <td>82.95</td>\n",
       "    </tr>\n",
       "    <tr>\n",
       "      <th>8</th>\n",
       "      <td>Iceland</td>\n",
       "      <td>81.56</td>\n",
       "    </tr>\n",
       "    <tr>\n",
       "      <th>9</th>\n",
       "      <td>Spain</td>\n",
       "      <td>80.26</td>\n",
       "    </tr>\n",
       "  </tbody>\n",
       "</table>\n",
       "</div>"
      ],
      "text/plain": [
       "               location  people_fully_vaccinated_per_hundred\n",
       "0             Gibraltar                               118.18\n",
       "1              Pitcairn                               100.00\n",
       "2             Singapore                                91.91\n",
       "3  United Arab Emirates                                88.40\n",
       "4              Portugal                                87.78\n",
       "5                 Malta                                83.59\n",
       "6                 Chile                                82.97\n",
       "7        Cayman Islands                                82.95\n",
       "8               Iceland                                81.56\n",
       "9                 Spain                                80.26"
      ]
     },
     "metadata": {},
     "output_type": "display_data"
    }
   ],
   "source": [
    "# Grouping the data by locations and then sorting the data by the max value of people_fully_vaccinated_per_hundred from highest to lowest\n",
    "top_fully_per_hundred = df_clean.groupby('location').people_fully_vaccinated_per_hundred.max().sort_values(ascending=False)\n",
    "top_fully_per_hundred_f = top_fully_per_hundred.dropna(axis='rows').reset_index() # Dropping NaN values\n",
    "display(top_fully_per_hundred_f.head(10))"
   ]
  },
  {
   "cell_type": "markdown",
   "metadata": {},
   "source": [
    "According to the top 10 table, we can see that the value of Gibraltar is larger than 100 which is not reasonable. So, I delete this location in our dataset."
   ]
  },
  {
   "cell_type": "code",
   "execution_count": 37,
   "metadata": {},
   "outputs": [],
   "source": [
    "#delete Gibraltar\n",
    "top_fully_per_hundred_f = top_fully_per_hundred_f.drop(index=0).reset_index()"
   ]
  },
  {
   "cell_type": "code",
   "execution_count": 38,
   "metadata": {},
   "outputs": [
    {
     "data": {
      "text/html": [
       "<div>\n",
       "<style scoped>\n",
       "    .dataframe tbody tr th:only-of-type {\n",
       "        vertical-align: middle;\n",
       "    }\n",
       "\n",
       "    .dataframe tbody tr th {\n",
       "        vertical-align: top;\n",
       "    }\n",
       "\n",
       "    .dataframe thead th {\n",
       "        text-align: right;\n",
       "    }\n",
       "</style>\n",
       "<table border=\"1\" class=\"dataframe\">\n",
       "  <thead>\n",
       "    <tr style=\"text-align: right;\">\n",
       "      <th></th>\n",
       "      <th>index</th>\n",
       "      <th>location</th>\n",
       "      <th>people_fully_vaccinated_per_hundred</th>\n",
       "    </tr>\n",
       "  </thead>\n",
       "  <tbody>\n",
       "    <tr>\n",
       "      <th>0</th>\n",
       "      <td>1</td>\n",
       "      <td>Pitcairn</td>\n",
       "      <td>100.00</td>\n",
       "    </tr>\n",
       "    <tr>\n",
       "      <th>1</th>\n",
       "      <td>2</td>\n",
       "      <td>Singapore</td>\n",
       "      <td>91.91</td>\n",
       "    </tr>\n",
       "    <tr>\n",
       "      <th>2</th>\n",
       "      <td>3</td>\n",
       "      <td>United Arab Emirates</td>\n",
       "      <td>88.40</td>\n",
       "    </tr>\n",
       "    <tr>\n",
       "      <th>3</th>\n",
       "      <td>4</td>\n",
       "      <td>Portugal</td>\n",
       "      <td>87.78</td>\n",
       "    </tr>\n",
       "    <tr>\n",
       "      <th>4</th>\n",
       "      <td>5</td>\n",
       "      <td>Malta</td>\n",
       "      <td>83.59</td>\n",
       "    </tr>\n",
       "    <tr>\n",
       "      <th>5</th>\n",
       "      <td>6</td>\n",
       "      <td>Chile</td>\n",
       "      <td>82.97</td>\n",
       "    </tr>\n",
       "    <tr>\n",
       "      <th>6</th>\n",
       "      <td>7</td>\n",
       "      <td>Cayman Islands</td>\n",
       "      <td>82.95</td>\n",
       "    </tr>\n",
       "    <tr>\n",
       "      <th>7</th>\n",
       "      <td>8</td>\n",
       "      <td>Iceland</td>\n",
       "      <td>81.56</td>\n",
       "    </tr>\n",
       "    <tr>\n",
       "      <th>8</th>\n",
       "      <td>9</td>\n",
       "      <td>Spain</td>\n",
       "      <td>80.26</td>\n",
       "    </tr>\n",
       "    <tr>\n",
       "      <th>9</th>\n",
       "      <td>10</td>\n",
       "      <td>Cuba</td>\n",
       "      <td>79.82</td>\n",
       "    </tr>\n",
       "  </tbody>\n",
       "</table>\n",
       "</div>"
      ],
      "text/plain": [
       "   index              location  people_fully_vaccinated_per_hundred\n",
       "0      1              Pitcairn                               100.00\n",
       "1      2             Singapore                                91.91\n",
       "2      3  United Arab Emirates                                88.40\n",
       "3      4              Portugal                                87.78\n",
       "4      5                 Malta                                83.59\n",
       "5      6                 Chile                                82.97\n",
       "6      7        Cayman Islands                                82.95\n",
       "7      8               Iceland                                81.56\n",
       "8      9                 Spain                                80.26\n",
       "9     10                  Cuba                                79.82"
      ]
     },
     "metadata": {},
     "output_type": "display_data"
    }
   ],
   "source": [
    "#display top 10 people_fully_vaccinated_per_hundred again.\n",
    "display(top_fully_per_hundred_f.head(10))"
   ]
  },
  {
   "cell_type": "code",
   "execution_count": 39,
   "metadata": {},
   "outputs": [
    {
     "data": {
      "image/png": "[encoded data removed]",
      "text/plain": [
       "<Figure size 1440x720 with 1 Axes>"
      ]
     },
     "metadata": {
      "needs_background": "light"
     },
     "output_type": "display_data"
    }
   ],
   "source": [
    "# Plotting the data\n",
    "with sns.plotting_context('notebook', font_scale = 1.25):\n",
    "    plt.figure(figsize=(20, 10))\n",
    "    plt.title('The Top 10 Total_Vaccinated per hundred Locations in daily vaccinations')\n",
    "    sns.barplot(x=top_fully_per_hundred_f.location[0:10], y=top_fully_per_hundred_f.people_fully_vaccinated_per_hundred[0:10])\n",
    "    plt.xlabel('Location')\n",
    "    plt.ylabel('Rate of fully vaccinations');"
   ]
  },
  {
   "cell_type": "markdown",
   "metadata": {},
   "source": [
    "The 10 countries with the highest complete vaccination rates per 100 people differ from the 10 countries with the most effective vaccination schedules and the 10 countries with the highest vaccination rates. This means that the percentage of fully vaccinated people per 100 people in the most vaccinated and best performing countries is not high. "
   ]
  },
  {
   "cell_type": "markdown",
   "metadata": {},
   "source": [
    "## 2.4 The progression in daily vaccinations over time"
   ]
  },
  {
   "cell_type": "markdown",
   "metadata": {},
   "source": [
    "In part 2.2 I already know the max value of daily vaccinations, but I still want to know how fast these countries can get its maximum value."
   ]
  },
  {
   "cell_type": "code",
   "execution_count": 40,
   "metadata": {},
   "outputs": [
    {
     "data": {
      "text/html": [
       "<div>\n",
       "<style scoped>\n",
       "    .dataframe tbody tr th:only-of-type {\n",
       "        vertical-align: middle;\n",
       "    }\n",
       "\n",
       "    .dataframe tbody tr th {\n",
       "        vertical-align: top;\n",
       "    }\n",
       "\n",
       "    .dataframe thead th {\n",
       "        text-align: right;\n",
       "    }\n",
       "</style>\n",
       "<table border=\"1\" class=\"dataframe\">\n",
       "  <thead>\n",
       "    <tr style=\"text-align: right;\">\n",
       "      <th></th>\n",
       "      <th>location</th>\n",
       "      <th>date</th>\n",
       "      <th>daily_vaccinations</th>\n",
       "    </tr>\n",
       "  </thead>\n",
       "  <tbody>\n",
       "    <tr>\n",
       "      <th>14083</th>\n",
       "      <td>India</td>\n",
       "      <td>2021-01-15</td>\n",
       "      <td>0.0</td>\n",
       "    </tr>\n",
       "    <tr>\n",
       "      <th>14383</th>\n",
       "      <td>Indonesia</td>\n",
       "      <td>2021-01-12</td>\n",
       "      <td>0.0</td>\n",
       "    </tr>\n",
       "    <tr>\n",
       "      <th>15989</th>\n",
       "      <td>Japan</td>\n",
       "      <td>2021-02-17</td>\n",
       "      <td>0.0</td>\n",
       "    </tr>\n",
       "    <tr>\n",
       "      <th>20645</th>\n",
       "      <td>Mexico</td>\n",
       "      <td>2020-12-24</td>\n",
       "      <td>0.0</td>\n",
       "    </tr>\n",
       "    <tr>\n",
       "      <th>5948</th>\n",
       "      <td>China</td>\n",
       "      <td>2020-12-15</td>\n",
       "      <td>0.0</td>\n",
       "    </tr>\n",
       "    <tr>\n",
       "      <th>...</th>\n",
       "      <td>...</td>\n",
       "      <td>...</td>\n",
       "      <td>...</td>\n",
       "    </tr>\n",
       "    <tr>\n",
       "      <th>6059</th>\n",
       "      <td>China</td>\n",
       "      <td>2021-06-29</td>\n",
       "      <td>21993000.0</td>\n",
       "    </tr>\n",
       "    <tr>\n",
       "      <th>6054</th>\n",
       "      <td>China</td>\n",
       "      <td>2021-06-24</td>\n",
       "      <td>21998714.0</td>\n",
       "    </tr>\n",
       "    <tr>\n",
       "      <th>6056</th>\n",
       "      <td>China</td>\n",
       "      <td>2021-06-26</td>\n",
       "      <td>22105857.0</td>\n",
       "    </tr>\n",
       "    <tr>\n",
       "      <th>6057</th>\n",
       "      <td>China</td>\n",
       "      <td>2021-06-27</td>\n",
       "      <td>22366286.0</td>\n",
       "    </tr>\n",
       "    <tr>\n",
       "      <th>6058</th>\n",
       "      <td>China</td>\n",
       "      <td>2021-06-28</td>\n",
       "      <td>22424286.0</td>\n",
       "    </tr>\n",
       "  </tbody>\n",
       "</table>\n",
       "<p>2466 rows × 3 columns</p>\n",
       "</div>"
      ],
      "text/plain": [
       "        location        date  daily_vaccinations\n",
       "14083      India  2021-01-15                 0.0\n",
       "14383  Indonesia  2021-01-12                 0.0\n",
       "15989      Japan  2021-02-17                 0.0\n",
       "20645     Mexico  2020-12-24                 0.0\n",
       "5948       China  2020-12-15                 0.0\n",
       "...          ...         ...                 ...\n",
       "6059       China  2021-06-29          21993000.0\n",
       "6054       China  2021-06-24          21998714.0\n",
       "6056       China  2021-06-26          22105857.0\n",
       "6057       China  2021-06-27          22366286.0\n",
       "6058       China  2021-06-28          22424286.0\n",
       "\n",
       "[2466 rows x 3 columns]"
      ]
     },
     "metadata": {},
     "output_type": "display_data"
    }
   ],
   "source": [
    "# Establishing which columns are relevant and preparing the dataset\n",
    "cols = ['location', 'date', 'daily_vaccinations']\n",
    "covid_df = df_clean.reset_index()\n",
    "\n",
    "# Creating a list of the aforementioned best performing countries in terms of daily vaccinations\n",
    "top_10_locations = list(top_daily_f.location[0:10].values)\n",
    "\n",
    "# Filtering and sorting the data\n",
    "daily_vacc_df = covid_df[['location', 'date', 'daily_vaccinations']].sort_values(by='daily_vaccinations', ascending=True)\n",
    "top_10_dv_df = daily_vacc_df[daily_vacc_df.location.isin(top_10_locations)].dropna()\n",
    "\n",
    "display(top_10_dv_df) # verifying that the filtering executed correctly"
   ]
  },
  {
   "cell_type": "code",
   "execution_count": 41,
   "metadata": {
    "scrolled": false
   },
   "outputs": [
    {
     "data": {
      "image/png": "[encoded data removed]",
      "text/plain": [
       "<Figure size 823.625x1800 with 10 Axes>"
      ]
     },
     "metadata": {
      "needs_background": "light"
     },
     "output_type": "display_data"
    }
   ],
   "source": [
    "# Plotting the data in a multi faceted lineplot\n",
    "\n",
    "#plt.figure(figsize=(18, 32))\n",
    "sns.relplot(data=top_10_dv_df, x='date', y='daily_vaccinations', hue='location', col='location', kind='line', col_wrap=2)\n",
    "plt.xticks('');"
   ]
  },
  {
   "cell_type": "markdown",
   "metadata": {},
   "source": [
    "According to the upward trend, it can be found that China has the fastest rising speed, followed by the upward trends of India and the United States.\n",
    "\n",
    "According to the timeline, it can be found that the trend graphs of Bangladesh, Pakistan, and Vietnam are shorter than those of other countries. It may be that the data is correct, but the bigger reason is that with the development of the epidemic, the vaccine supply in some countries is insufficient. The reason for this judgment is that the number of daily vaccinations in countries that can produce vaccines in their own countries is gradually increasing and there is no interruption."
   ]
  },
  {
   "cell_type": "markdown",
   "metadata": {},
   "source": [
    "# 3. Model selection and fitting to data "
   ]
  },
  {
   "cell_type": "code",
   "execution_count": 42,
   "metadata": {},
   "outputs": [],
   "source": [
    "#Create new columns based on distinct values and count them\n",
    "df_clean = df_clean.sort_values('location')\n",
    "df_clean['eid'] = (df_clean.groupby(['location']).cumcount()==0).astype(int)\n",
    "df_clean['eid'] = df_clean['eid'].cumsum()"
   ]
  },
  {
   "cell_type": "markdown",
   "metadata": {},
   "source": [
    "## Model Selection"
   ]
  },
  {
   "cell_type": "markdown",
   "metadata": {},
   "source": [
    "Since the data set is a time series, we need to use a time-series correlation model. Among these models, I choose ARIMA as my model, which combines the AR and MA improved time models. Also, it can meet the differential requirements and has a wider range of adaptability of the dataset."
   ]
  },
  {
   "cell_type": "markdown",
   "metadata": {},
   "source": [
    "Since the goal is to predict the number of people vaccinated in each country in the next 50 days, I choose the column of 'people_vaccinated' as the best dataset of the model. The reason is that this column show directly the numbers of people vaccinated. The number of people vaccinated in each country in the next 50 days we want can get by the number of the ending day minus the number of the beginning day."
   ]
  },
  {
   "cell_type": "markdown",
   "metadata": {},
   "source": [
    "## Canada"
   ]
  },
  {
   "cell_type": "code",
   "execution_count": 43,
   "metadata": {},
   "outputs": [
    {
     "data": {
      "text/html": [
       "<div>\n",
       "<style scoped>\n",
       "    .dataframe tbody tr th:only-of-type {\n",
       "        vertical-align: middle;\n",
       "    }\n",
       "\n",
       "    .dataframe tbody tr th {\n",
       "        vertical-align: top;\n",
       "    }\n",
       "\n",
       "    .dataframe thead th {\n",
       "        text-align: right;\n",
       "    }\n",
       "</style>\n",
       "<table border=\"1\" class=\"dataframe\">\n",
       "  <thead>\n",
       "    <tr style=\"text-align: right;\">\n",
       "      <th></th>\n",
       "      <th>location</th>\n",
       "      <th>iso_code</th>\n",
       "      <th>date</th>\n",
       "      <th>total_vaccinations</th>\n",
       "      <th>people_vaccinated</th>\n",
       "      <th>people_fully_vaccinated</th>\n",
       "      <th>total_boosters</th>\n",
       "      <th>daily_vaccinations_raw</th>\n",
       "      <th>daily_vaccinations</th>\n",
       "      <th>total_vaccinations_per_hundred</th>\n",
       "      <th>people_vaccinated_per_hundred</th>\n",
       "      <th>people_fully_vaccinated_per_hundred</th>\n",
       "      <th>total_boosters_per_hundred</th>\n",
       "      <th>daily_vaccinations_per_million</th>\n",
       "      <th>daily_people_vaccinated</th>\n",
       "      <th>daily_people_vaccinated_per_hundred</th>\n",
       "      <th>eid</th>\n",
       "    </tr>\n",
       "  </thead>\n",
       "  <tbody>\n",
       "    <tr>\n",
       "      <th>9795</th>\n",
       "      <td>Canada</td>\n",
       "      <td>CAN</td>\n",
       "      <td>2020-12-14</td>\n",
       "      <td>5.0</td>\n",
       "      <td>5.0</td>\n",
       "      <td>0.0</td>\n",
       "      <td>0.0</td>\n",
       "      <td>0.0</td>\n",
       "      <td>0.0</td>\n",
       "      <td>0.00</td>\n",
       "      <td>0.00</td>\n",
       "      <td>0.00</td>\n",
       "      <td>0.00</td>\n",
       "      <td>0.0</td>\n",
       "      <td>0.0</td>\n",
       "      <td>0.000</td>\n",
       "      <td>38</td>\n",
       "    </tr>\n",
       "    <tr>\n",
       "      <th>9796</th>\n",
       "      <td>Canada</td>\n",
       "      <td>CAN</td>\n",
       "      <td>2020-12-15</td>\n",
       "      <td>727.0</td>\n",
       "      <td>727.0</td>\n",
       "      <td>0.0</td>\n",
       "      <td>0.0</td>\n",
       "      <td>722.0</td>\n",
       "      <td>722.0</td>\n",
       "      <td>0.00</td>\n",
       "      <td>0.00</td>\n",
       "      <td>0.00</td>\n",
       "      <td>0.00</td>\n",
       "      <td>19.0</td>\n",
       "      <td>722.0</td>\n",
       "      <td>0.002</td>\n",
       "      <td>38</td>\n",
       "    </tr>\n",
       "    <tr>\n",
       "      <th>9797</th>\n",
       "      <td>Canada</td>\n",
       "      <td>CAN</td>\n",
       "      <td>2020-12-16</td>\n",
       "      <td>3016.0</td>\n",
       "      <td>3016.0</td>\n",
       "      <td>0.0</td>\n",
       "      <td>0.0</td>\n",
       "      <td>2289.0</td>\n",
       "      <td>1506.0</td>\n",
       "      <td>0.01</td>\n",
       "      <td>0.01</td>\n",
       "      <td>0.00</td>\n",
       "      <td>0.00</td>\n",
       "      <td>40.0</td>\n",
       "      <td>1506.0</td>\n",
       "      <td>0.004</td>\n",
       "      <td>38</td>\n",
       "    </tr>\n",
       "    <tr>\n",
       "      <th>9798</th>\n",
       "      <td>Canada</td>\n",
       "      <td>CAN</td>\n",
       "      <td>2020-12-17</td>\n",
       "      <td>7267.0</td>\n",
       "      <td>7267.0</td>\n",
       "      <td>0.0</td>\n",
       "      <td>0.0</td>\n",
       "      <td>4251.0</td>\n",
       "      <td>2421.0</td>\n",
       "      <td>0.02</td>\n",
       "      <td>0.02</td>\n",
       "      <td>0.00</td>\n",
       "      <td>0.00</td>\n",
       "      <td>64.0</td>\n",
       "      <td>2421.0</td>\n",
       "      <td>0.006</td>\n",
       "      <td>38</td>\n",
       "    </tr>\n",
       "    <tr>\n",
       "      <th>9799</th>\n",
       "      <td>Canada</td>\n",
       "      <td>CAN</td>\n",
       "      <td>2020-12-18</td>\n",
       "      <td>11276.0</td>\n",
       "      <td>11276.0</td>\n",
       "      <td>0.0</td>\n",
       "      <td>0.0</td>\n",
       "      <td>4009.0</td>\n",
       "      <td>2818.0</td>\n",
       "      <td>0.03</td>\n",
       "      <td>0.03</td>\n",
       "      <td>0.00</td>\n",
       "      <td>0.00</td>\n",
       "      <td>74.0</td>\n",
       "      <td>2818.0</td>\n",
       "      <td>0.007</td>\n",
       "      <td>38</td>\n",
       "    </tr>\n",
       "    <tr>\n",
       "      <th>...</th>\n",
       "      <td>...</td>\n",
       "      <td>...</td>\n",
       "      <td>...</td>\n",
       "      <td>...</td>\n",
       "      <td>...</td>\n",
       "      <td>...</td>\n",
       "      <td>...</td>\n",
       "      <td>...</td>\n",
       "      <td>...</td>\n",
       "      <td>...</td>\n",
       "      <td>...</td>\n",
       "      <td>...</td>\n",
       "      <td>...</td>\n",
       "      <td>...</td>\n",
       "      <td>...</td>\n",
       "      <td>...</td>\n",
       "      <td>...</td>\n",
       "    </tr>\n",
       "    <tr>\n",
       "      <th>10133</th>\n",
       "      <td>Canada</td>\n",
       "      <td>CAN</td>\n",
       "      <td>2021-11-17</td>\n",
       "      <td>59776509.0</td>\n",
       "      <td>30102545.0</td>\n",
       "      <td>28764923.0</td>\n",
       "      <td>909041.0</td>\n",
       "      <td>76112.0</td>\n",
       "      <td>61164.0</td>\n",
       "      <td>157.03</td>\n",
       "      <td>79.08</td>\n",
       "      <td>75.56</td>\n",
       "      <td>2.39</td>\n",
       "      <td>1607.0</td>\n",
       "      <td>14376.0</td>\n",
       "      <td>0.038</td>\n",
       "      <td>38</td>\n",
       "    </tr>\n",
       "    <tr>\n",
       "      <th>10134</th>\n",
       "      <td>Canada</td>\n",
       "      <td>CAN</td>\n",
       "      <td>2021-11-18</td>\n",
       "      <td>59852559.0</td>\n",
       "      <td>30121803.0</td>\n",
       "      <td>28795770.0</td>\n",
       "      <td>934986.0</td>\n",
       "      <td>76050.0</td>\n",
       "      <td>66659.0</td>\n",
       "      <td>157.23</td>\n",
       "      <td>79.13</td>\n",
       "      <td>75.64</td>\n",
       "      <td>2.46</td>\n",
       "      <td>1751.0</td>\n",
       "      <td>15696.0</td>\n",
       "      <td>0.041</td>\n",
       "      <td>38</td>\n",
       "    </tr>\n",
       "    <tr>\n",
       "      <th>10135</th>\n",
       "      <td>Canada</td>\n",
       "      <td>CAN</td>\n",
       "      <td>2021-11-19</td>\n",
       "      <td>59918117.0</td>\n",
       "      <td>30136287.0</td>\n",
       "      <td>28821607.0</td>\n",
       "      <td>960223.0</td>\n",
       "      <td>65558.0</td>\n",
       "      <td>62649.0</td>\n",
       "      <td>157.40</td>\n",
       "      <td>79.16</td>\n",
       "      <td>75.71</td>\n",
       "      <td>2.52</td>\n",
       "      <td>1646.0</td>\n",
       "      <td>14717.0</td>\n",
       "      <td>0.039</td>\n",
       "      <td>38</td>\n",
       "    </tr>\n",
       "    <tr>\n",
       "      <th>10136</th>\n",
       "      <td>Canada</td>\n",
       "      <td>CAN</td>\n",
       "      <td>2021-11-20</td>\n",
       "      <td>59947684.0</td>\n",
       "      <td>30145291.0</td>\n",
       "      <td>28837538.0</td>\n",
       "      <td>964855.0</td>\n",
       "      <td>29567.0</td>\n",
       "      <td>62168.0</td>\n",
       "      <td>157.48</td>\n",
       "      <td>79.19</td>\n",
       "      <td>75.75</td>\n",
       "      <td>2.53</td>\n",
       "      <td>1633.0</td>\n",
       "      <td>14706.0</td>\n",
       "      <td>0.039</td>\n",
       "      <td>38</td>\n",
       "    </tr>\n",
       "    <tr>\n",
       "      <th>10137</th>\n",
       "      <td>Canada</td>\n",
       "      <td>CAN</td>\n",
       "      <td>2021-11-21</td>\n",
       "      <td>59967851.0</td>\n",
       "      <td>30152206.0</td>\n",
       "      <td>28849824.0</td>\n",
       "      <td>965821.0</td>\n",
       "      <td>20167.0</td>\n",
       "      <td>61157.0</td>\n",
       "      <td>157.53</td>\n",
       "      <td>79.21</td>\n",
       "      <td>75.79</td>\n",
       "      <td>2.54</td>\n",
       "      <td>1607.0</td>\n",
       "      <td>14538.0</td>\n",
       "      <td>0.038</td>\n",
       "      <td>38</td>\n",
       "    </tr>\n",
       "  </tbody>\n",
       "</table>\n",
       "<p>343 rows × 17 columns</p>\n",
       "</div>"
      ],
      "text/plain": [
       "      location iso_code        date  total_vaccinations  people_vaccinated  \\\n",
       "9795    Canada      CAN  2020-12-14                 5.0                5.0   \n",
       "9796    Canada      CAN  2020-12-15               727.0              727.0   \n",
       "9797    Canada      CAN  2020-12-16              3016.0             3016.0   \n",
       "9798    Canada      CAN  2020-12-17              7267.0             7267.0   \n",
       "9799    Canada      CAN  2020-12-18             11276.0            11276.0   \n",
       "...        ...      ...         ...                 ...                ...   \n",
       "10133   Canada      CAN  2021-11-17          59776509.0         30102545.0   \n",
       "10134   Canada      CAN  2021-11-18          59852559.0         30121803.0   \n",
       "10135   Canada      CAN  2021-11-19          59918117.0         30136287.0   \n",
       "10136   Canada      CAN  2021-11-20          59947684.0         30145291.0   \n",
       "10137   Canada      CAN  2021-11-21          59967851.0         30152206.0   \n",
       "\n",
       "       people_fully_vaccinated  total_boosters  daily_vaccinations_raw  \\\n",
       "9795                       0.0             0.0                     0.0   \n",
       "9796                       0.0             0.0                   722.0   \n",
       "9797                       0.0             0.0                  2289.0   \n",
       "9798                       0.0             0.0                  4251.0   \n",
       "9799                       0.0             0.0                  4009.0   \n",
       "...                        ...             ...                     ...   \n",
       "10133               28764923.0        909041.0                 76112.0   \n",
       "10134               28795770.0        934986.0                 76050.0   \n",
       "10135               28821607.0        960223.0                 65558.0   \n",
       "10136               28837538.0        964855.0                 29567.0   \n",
       "10137               28849824.0        965821.0                 20167.0   \n",
       "\n",
       "       daily_vaccinations  total_vaccinations_per_hundred  \\\n",
       "9795                  0.0                            0.00   \n",
       "9796                722.0                            0.00   \n",
       "9797               1506.0                            0.01   \n",
       "9798               2421.0                            0.02   \n",
       "9799               2818.0                            0.03   \n",
       "...                   ...                             ...   \n",
       "10133             61164.0                          157.03   \n",
       "10134             66659.0                          157.23   \n",
       "10135             62649.0                          157.40   \n",
       "10136             62168.0                          157.48   \n",
       "10137             61157.0                          157.53   \n",
       "\n",
       "       people_vaccinated_per_hundred  people_fully_vaccinated_per_hundred  \\\n",
       "9795                            0.00                                 0.00   \n",
       "9796                            0.00                                 0.00   \n",
       "9797                            0.01                                 0.00   \n",
       "9798                            0.02                                 0.00   \n",
       "9799                            0.03                                 0.00   \n",
       "...                              ...                                  ...   \n",
       "10133                          79.08                                75.56   \n",
       "10134                          79.13                                75.64   \n",
       "10135                          79.16                                75.71   \n",
       "10136                          79.19                                75.75   \n",
       "10137                          79.21                                75.79   \n",
       "\n",
       "       total_boosters_per_hundred  daily_vaccinations_per_million  \\\n",
       "9795                         0.00                             0.0   \n",
       "9796                         0.00                            19.0   \n",
       "9797                         0.00                            40.0   \n",
       "9798                         0.00                            64.0   \n",
       "9799                         0.00                            74.0   \n",
       "...                           ...                             ...   \n",
       "10133                        2.39                          1607.0   \n",
       "10134                        2.46                          1751.0   \n",
       "10135                        2.52                          1646.0   \n",
       "10136                        2.53                          1633.0   \n",
       "10137                        2.54                          1607.0   \n",
       "\n",
       "       daily_people_vaccinated  daily_people_vaccinated_per_hundred  eid  \n",
       "9795                       0.0                                0.000   38  \n",
       "9796                     722.0                                0.002   38  \n",
       "9797                    1506.0                                0.004   38  \n",
       "9798                    2421.0                                0.006   38  \n",
       "9799                    2818.0                                0.007   38  \n",
       "...                        ...                                  ...  ...  \n",
       "10133                  14376.0                                0.038   38  \n",
       "10134                  15696.0                                0.041   38  \n",
       "10135                  14717.0                                0.039   38  \n",
       "10136                  14706.0                                0.039   38  \n",
       "10137                  14538.0                                0.038   38  \n",
       "\n",
       "[343 rows x 17 columns]"
      ]
     },
     "execution_count": 43,
     "metadata": {},
     "output_type": "execute_result"
    }
   ],
   "source": [
    "#Country 1: Canada\n",
    "ndf_can=df_clean.loc[df_clean['eid'] == 38]\n",
    "df_can = ndf_can.sort_values('people_vaccinated')\n",
    "df_can"
   ]
  },
  {
   "cell_type": "code",
   "execution_count": 44,
   "metadata": {},
   "outputs": [],
   "source": [
    "#Get the values from the column where vaccination rate of Canada (or country of your choice) is stored.\n",
    "val_can = df_can['people_vaccinated'].values"
   ]
  },
  {
   "cell_type": "code",
   "execution_count": 45,
   "metadata": {},
   "outputs": [
    {
     "name": "stdout",
     "output_type": "stream",
     "text": [
      "Performing stepwise search to minimize aic\n",
      " ARIMA(2,2,2)(0,0,0)[0]             : AIC=7923.726, Time=0.35 sec\n",
      " ARIMA(0,2,0)(0,0,0)[0]             : AIC=7984.420, Time=0.01 sec\n",
      " ARIMA(1,2,0)(0,0,0)[0]             : AIC=7964.708, Time=0.02 sec\n",
      " ARIMA(0,2,1)(0,0,0)[0]             : AIC=7941.855, Time=0.03 sec\n",
      " ARIMA(1,2,2)(0,0,0)[0]             : AIC=7924.624, Time=0.18 sec\n",
      " ARIMA(2,2,1)(0,0,0)[0]             : AIC=7929.502, Time=0.10 sec\n",
      " ARIMA(3,2,2)(0,0,0)[0]             : AIC=7925.248, Time=0.40 sec\n",
      " ARIMA(2,2,3)(0,0,0)[0]             : AIC=7876.765, Time=0.75 sec\n",
      " ARIMA(1,2,3)(0,0,0)[0]             : AIC=7927.955, Time=0.26 sec\n",
      " ARIMA(3,2,3)(0,0,0)[0]             : AIC=7865.094, Time=0.79 sec\n",
      " ARIMA(4,2,3)(0,0,0)[0]             : AIC=inf, Time=1.19 sec\n",
      " ARIMA(3,2,4)(0,0,0)[0]             : AIC=7895.087, Time=0.43 sec\n",
      " ARIMA(2,2,4)(0,0,0)[0]             : AIC=7884.583, Time=0.59 sec\n",
      " ARIMA(4,2,2)(0,0,0)[0]             : AIC=7835.276, Time=0.87 sec\n",
      " ARIMA(4,2,1)(0,0,0)[0]             : AIC=7928.380, Time=0.15 sec\n",
      " ARIMA(5,2,2)(0,0,0)[0]             : AIC=7808.328, Time=0.59 sec\n",
      " ARIMA(5,2,1)(0,0,0)[0]             : AIC=7894.794, Time=0.21 sec\n",
      " ARIMA(5,2,3)(0,0,0)[0]             : AIC=7806.601, Time=0.72 sec\n",
      " ARIMA(5,2,4)(0,0,0)[0]             : AIC=7769.534, Time=1.33 sec\n",
      " ARIMA(4,2,4)(0,0,0)[0]             : AIC=7874.665, Time=1.20 sec\n",
      " ARIMA(5,2,5)(0,0,0)[0]             : AIC=7771.621, Time=1.36 sec\n",
      " ARIMA(4,2,5)(0,0,0)[0]             : AIC=7803.935, Time=1.40 sec\n",
      " ARIMA(5,2,4)(0,0,0)[0] intercept   : AIC=7771.531, Time=1.41 sec\n",
      "\n",
      "Best model:  ARIMA(5,2,4)(0,0,0)[0]          \n",
      "Total fit time: 14.385 seconds\n",
      "                               SARIMAX Results                                \n",
      "==============================================================================\n",
      "Dep. Variable:                      y   No. Observations:                  343\n",
      "Model:               SARIMAX(5, 2, 4)   Log Likelihood               -3874.767\n",
      "Date:                Tue, 14 Dec 2021   AIC                           7769.534\n",
      "Time:                        19:49:27   BIC                           7807.852\n",
      "Sample:                             0   HQIC                          7784.800\n",
      "                                - 343                                         \n",
      "Covariance Type:                  opg                                         \n",
      "==============================================================================\n",
      "                 coef    std err          z      P>|z|      [0.025      0.975]\n",
      "------------------------------------------------------------------------------\n",
      "ar.L1          0.2669      0.092      2.903      0.004       0.087       0.447\n",
      "ar.L2         -0.9588      0.065    -14.834      0.000      -1.086      -0.832\n",
      "ar.L3          0.0276      0.116      0.237      0.813      -0.201       0.256\n",
      "ar.L4         -0.5165      0.054     -9.620      0.000      -0.622      -0.411\n",
      "ar.L5         -0.5105      0.074     -6.913      0.000      -0.655      -0.366\n",
      "ma.L1         -0.7847      0.086     -9.148      0.000      -0.953      -0.617\n",
      "ma.L2          1.2507      0.105     11.856      0.000       1.044       1.457\n",
      "ma.L3         -0.6253      0.105     -5.954      0.000      -0.831      -0.419\n",
      "ma.L4          0.6126      0.076      8.101      0.000       0.464       0.761\n",
      "sigma2      6.428e+08   2.05e-10   3.13e+18      0.000    6.43e+08    6.43e+08\n",
      "===================================================================================\n",
      "Ljung-Box (L1) (Q):                   0.02   Jarque-Bera (JB):               627.41\n",
      "Prob(Q):                              0.90   Prob(JB):                         0.00\n",
      "Heteroskedasticity (H):               0.36   Skew:                             0.42\n",
      "Prob(H) (two-sided):                  0.00   Kurtosis:                         9.59\n",
      "===================================================================================\n",
      "\n",
      "Warnings:\n",
      "[1] Covariance matrix calculated using the outer product of gradients (complex-step).\n",
      "[2] Covariance matrix is singular or near-singular, with condition number 7.47e+33. Standard errors may be unstable.\n"
     ]
    }
   ],
   "source": [
    "#find best p,d,q by auto_arima\n",
    "model = pm.auto_arima(val_can, trace=True, suppress_warning=True)\n",
    "print(model.summary())"
   ]
  },
  {
   "cell_type": "code",
   "execution_count": 46,
   "metadata": {},
   "outputs": [
    {
     "data": {
      "image/png": "[encoded data removed]",
      "text/plain": [
       "<Figure size 504x360 with 4 Axes>"
      ]
     },
     "metadata": {
      "needs_background": "light"
     },
     "output_type": "display_data"
    }
   ],
   "source": [
    "model.plot_diagnostics(figsize=(7,5))\n",
    "plt.show()"
   ]
  },
  {
   "cell_type": "markdown",
   "metadata": {},
   "source": [
    "Observing the residual plots, I can know that the residuals fluctuate around 0 mean. Observing the residual density distribution graph, it can be found that its distribution is similar to a normal distribution with a mean value of zero. The picture in the lower left corner tells me that only the points at the two ends are slightly off. The autocorrelation graph in the lower right corner shows that there is no obvious pattern inside the residual. \n",
    "\n",
    "The above conclusion tells us that this model is very suitable for this data.\n",
    "\n",
    "Now I can use this model to predict the value of the next 50 days."
   ]
  },
  {
   "cell_type": "code",
   "execution_count": 47,
   "metadata": {},
   "outputs": [
    {
     "data": {
      "image/png": "[encoded data removed]",
      "text/plain": [
       "<Figure size 1440x720 with 1 Axes>"
      ]
     },
     "metadata": {
      "needs_background": "light"
     },
     "output_type": "display_data"
    }
   ],
   "source": [
    "# Forecast（alpha=0.05 CI=0.95）\n",
    "n_periods = 50\n",
    "fc, confint = model.predict(n_periods=n_periods, return_conf_int=True)\n",
    "index_of_fc = np.arange(len(val_can), len(val_can)+n_periods)\n",
    "\n",
    "# make series for plotting purpose\n",
    "fc_series = pd.Series(fc, index=index_of_fc)\n",
    "lower_series = pd.Series(confint[:, 0], index=index_of_fc)\n",
    "upper_series = pd.Series(confint[:, 1], index=index_of_fc)\n",
    "\n",
    "# Plot\n",
    "plt.figure(figsize=(20,10))\n",
    "plt.plot(val_can)\n",
    "plt.plot(fc_series, color='darkgreen')\n",
    "plt.fill_between(lower_series.index,lower_series,upper_series,color='b', alpha=.15)\n",
    "plt.title(\"Forecast of Vaccinated in the next 50 Days[Canada]\")\n",
    "plt.show()"
   ]
  },
  {
   "cell_type": "markdown",
   "metadata": {},
   "source": [
    "When the confidence interval is 0.95, I find that the lower series have negative predictions. This is an unreasonable prediction because the number of vaccinated people will only increase but not decrease. Therefore, I need to increase the value of alpha (decrease the confidence interval) to avoid negative predictions."
   ]
  },
  {
   "cell_type": "code",
   "execution_count": 48,
   "metadata": {},
   "outputs": [
    {
     "data": {
      "image/png": "[encoded data removed]",
      "text/plain": [
       "<Figure size 1440x720 with 1 Axes>"
      ]
     },
     "metadata": {
      "needs_background": "light"
     },
     "output_type": "display_data"
    }
   ],
   "source": [
    "# Forecast\n",
    "n_periods = 50\n",
    "fc, confint = model.predict(n_periods=n_periods, return_conf_int=True,alpha=0.9)\n",
    "index_of_fc = np.arange(len(val_can), len(val_can)+n_periods)\n",
    "\n",
    "# make series for plotting purpose\n",
    "fc_series = pd.Series(fc, index=index_of_fc)\n",
    "lower_series = pd.Series(confint[:, 0], index=index_of_fc)\n",
    "upper_series = pd.Series(confint[:, 1], index=index_of_fc)\n",
    "\n",
    "# Plot\n",
    "plt.figure(figsize=(20,10))\n",
    "plt.plot(val_can)\n",
    "plt.plot(fc_series, color='darkgreen')\n",
    "plt.fill_between(lower_series.index,lower_series,upper_series,color='b', alpha=.15)\n",
    "plt.title(\"Forecast of Vaccinated in the next 50 Days[Canada]\")\n",
    "plt.show()"
   ]
  },
  {
   "cell_type": "markdown",
   "metadata": {},
   "source": [
    "In order to get a better model, I perform a power transformation on the data, the method is box cox transform. Then use the inverse transform to get the original data after the prediction is completed. The advantage of this is that the variance of the data can be stabilized."
   ]
  },
  {
   "cell_type": "code",
   "execution_count": 49,
   "metadata": {},
   "outputs": [
    {
     "name": "stdout",
     "output_type": "stream",
     "text": [
      "Performing stepwise search to minimize aic\n",
      " ARIMA(2,2,2)(0,0,0)[0]             : AIC=-3015.206, Time=0.51 sec\n",
      " ARIMA(0,2,0)(0,0,0)[0]             : AIC=-2974.278, Time=0.02 sec\n",
      " ARIMA(1,2,0)(0,0,0)[0]             : AIC=-2985.001, Time=0.07 sec\n",
      " ARIMA(0,2,1)(0,0,0)[0]             : AIC=-2994.321, Time=0.14 sec\n",
      " ARIMA(1,2,2)(0,0,0)[0]             : AIC=-3017.572, Time=0.24 sec\n",
      " ARIMA(0,2,2)(0,0,0)[0]             : AIC=-3023.627, Time=0.14 sec\n",
      " ARIMA(0,2,3)(0,0,0)[0]             : AIC=-3021.304, Time=0.36 sec\n",
      " ARIMA(1,2,1)(0,0,0)[0]             : AIC=-3015.257, Time=0.15 sec\n",
      " ARIMA(1,2,3)(0,0,0)[0]             : AIC=-2963.185, Time=0.10 sec\n",
      " ARIMA(0,2,2)(0,0,0)[0] intercept   : AIC=-3022.152, Time=0.19 sec\n",
      "\n",
      "Best model:  ARIMA(0,2,2)(0,0,0)[0]          \n",
      "Total fit time: 1.924 seconds\n",
      "                               SARIMAX Results                                \n",
      "==============================================================================\n",
      "Dep. Variable:                      y   No. Observations:                  343\n",
      "Model:               SARIMAX(0, 2, 2)   Log Likelihood                1514.814\n",
      "Date:                Tue, 14 Dec 2021   AIC                          -3023.627\n",
      "Time:                        19:49:30   BIC                          -3012.131\n",
      "Sample:                             0   HQIC                         -3019.047\n",
      "                                - 343                                         \n",
      "Covariance Type:                  opg                                         \n",
      "==============================================================================\n",
      "                 coef    std err          z      P>|z|      [0.025      0.975]\n",
      "------------------------------------------------------------------------------\n",
      "ma.L1         -0.3719      0.036    -10.204      0.000      -0.443      -0.300\n",
      "ma.L2         -0.2420      0.036     -6.698      0.000      -0.313      -0.171\n",
      "sigma2      8.097e-06   3.92e-07     20.668      0.000    7.33e-06    8.86e-06\n",
      "===================================================================================\n",
      "Ljung-Box (L1) (Q):                   0.80   Jarque-Bera (JB):               204.43\n",
      "Prob(Q):                              0.37   Prob(JB):                         0.00\n",
      "Heteroskedasticity (H):               0.02   Skew:                             0.19\n",
      "Prob(H) (two-sided):                  0.00   Kurtosis:                         6.77\n",
      "===================================================================================\n",
      "\n",
      "Warnings:\n",
      "[1] Covariance matrix calculated using the outer product of gradients (complex-step).\n"
     ]
    }
   ],
   "source": [
    "#Power Transformer\n",
    "power = PowerTransformer(method='box-cox')\n",
    "can_trans = power.fit_transform(val_can[val_can>0].reshape(-1,1))\n",
    "model = pm.auto_arima(can_trans, trace=True, suppress_warning=True)\n",
    "print(model.summary())"
   ]
  },
  {
   "cell_type": "code",
   "execution_count": 50,
   "metadata": {},
   "outputs": [
    {
     "data": {
      "image/png": "[encoded data removed]",
      "text/plain": [
       "<Figure size 504x360 with 4 Axes>"
      ]
     },
     "metadata": {
      "needs_background": "light"
     },
     "output_type": "display_data"
    }
   ],
   "source": [
    "model.plot_diagnostics(figsize=(7,5))\n",
    "plt.show()"
   ]
  },
  {
   "cell_type": "markdown",
   "metadata": {},
   "source": [
    "By observing plot_diagnostics, it can be found that the residual density distribution obtained by the power-transformed model is closer to the normal distribution with a mean value of zero and has fewer autocorrelation patterns. The model is optimized. \n",
    "\n",
    "I will use this optimization model to predit the value of the next 50 days."
   ]
  },
  {
   "cell_type": "code",
   "execution_count": 51,
   "metadata": {},
   "outputs": [
    {
     "data": {
      "image/png": "[encoded data removed]",
      "text/plain": [
       "<Figure size 1440x720 with 1 Axes>"
      ]
     },
     "metadata": {
      "needs_background": "light"
     },
     "output_type": "display_data"
    }
   ],
   "source": [
    "# Forecast\n",
    "n_periods = 50\n",
    "fc, confint = model.predict(n_periods=n_periods, return_conf_int=True,alpha=0.95)\n",
    "index_of_fc = np.arange(len(val_can), len(val_can)+n_periods)\n",
    "fc = power.inverse_transform(fc.reshape(-1,1)).flatten()\n",
    "lower = power.inverse_transform(confint[:, 0].reshape(-1,1)).flatten()\n",
    "upper = power.inverse_transform(confint[:, 1].reshape(-1,1)).flatten()\n",
    "# make series for plotting purpose\n",
    "fc_series = pd.Series(fc, index=index_of_fc)\n",
    "lower_series = pd.Series(lower, index=index_of_fc)\n",
    "upper_series = pd.Series(upper, index=index_of_fc)\n",
    "# Plot\n",
    "plt.figure(figsize=(20,10))\n",
    "plt.plot(val_can)\n",
    "plt.plot(fc_series, color='darkgreen')\n",
    "plt.fill_between(lower_series.index,\n",
    "lower_series,\n",
    "upper_series,\n",
    "color='b', alpha=.15)\n",
    "plt.title(\"Forecast of Vaccinated in the next 50 Days[Canada]\")\n",
    "plt.show()"
   ]
  },
  {
   "cell_type": "code",
   "execution_count": 52,
   "metadata": {},
   "outputs": [],
   "source": [
    "base_case_can = fc[-1]-fc[0]\n",
    "lower_case_can = lower[-1]-lower[0]\n",
    "upper_case_can = upper[-1]-upper[0]"
   ]
  },
  {
   "cell_type": "code",
   "execution_count": 53,
   "metadata": {},
   "outputs": [
    {
     "name": "stdout",
     "output_type": "stream",
     "text": [
      "lower case is: 230054.1097048074 base case is: 567986.1490793861 upper case is: 907944.4094540551\n"
     ]
    }
   ],
   "source": [
    "print('lower case is:',lower_case_can,'base case is:',base_case_can,'upper case is:',upper_case_can)"
   ]
  },
  {
   "cell_type": "markdown",
   "metadata": {},
   "source": [
    "According to forecasts, the base case is that 567,986 people in Canada will be vaccinated in the next 50 days, the upper case is that 907,944 people will be vaccinated in Canada in the next 50 days, and the lower case is that 230054 people will be vaccinated in Canada in the next 50 days."
   ]
  },
  {
   "cell_type": "markdown",
   "metadata": {},
   "source": [
    "## United States"
   ]
  },
  {
   "cell_type": "code",
   "execution_count": 54,
   "metadata": {},
   "outputs": [
    {
     "data": {
      "text/html": [
       "<div>\n",
       "<style scoped>\n",
       "    .dataframe tbody tr th:only-of-type {\n",
       "        vertical-align: middle;\n",
       "    }\n",
       "\n",
       "    .dataframe tbody tr th {\n",
       "        vertical-align: top;\n",
       "    }\n",
       "\n",
       "    .dataframe thead th {\n",
       "        text-align: right;\n",
       "    }\n",
       "</style>\n",
       "<table border=\"1\" class=\"dataframe\">\n",
       "  <thead>\n",
       "    <tr style=\"text-align: right;\">\n",
       "      <th></th>\n",
       "      <th>location</th>\n",
       "      <th>iso_code</th>\n",
       "      <th>date</th>\n",
       "      <th>total_vaccinations</th>\n",
       "      <th>people_vaccinated</th>\n",
       "      <th>people_fully_vaccinated</th>\n",
       "      <th>total_boosters</th>\n",
       "      <th>daily_vaccinations_raw</th>\n",
       "      <th>daily_vaccinations</th>\n",
       "      <th>total_vaccinations_per_hundred</th>\n",
       "      <th>people_vaccinated_per_hundred</th>\n",
       "      <th>people_fully_vaccinated_per_hundred</th>\n",
       "      <th>total_boosters_per_hundred</th>\n",
       "      <th>daily_vaccinations_per_million</th>\n",
       "      <th>daily_people_vaccinated</th>\n",
       "      <th>daily_people_vaccinated_per_hundred</th>\n",
       "      <th>eid</th>\n",
       "    </tr>\n",
       "  </thead>\n",
       "  <tbody>\n",
       "    <tr>\n",
       "      <th>59528</th>\n",
       "      <td>United States</td>\n",
       "      <td>USA</td>\n",
       "      <td>2020-12-13</td>\n",
       "      <td>21800.0</td>\n",
       "      <td>18529.0</td>\n",
       "      <td>3875.0</td>\n",
       "      <td>0.0</td>\n",
       "      <td>0.0</td>\n",
       "      <td>0.0</td>\n",
       "      <td>0.01</td>\n",
       "      <td>0.01</td>\n",
       "      <td>0.00</td>\n",
       "      <td>0.00</td>\n",
       "      <td>0.0</td>\n",
       "      <td>0.0</td>\n",
       "      <td>0.000</td>\n",
       "      <td>223</td>\n",
       "    </tr>\n",
       "    <tr>\n",
       "      <th>59529</th>\n",
       "      <td>United States</td>\n",
       "      <td>USA</td>\n",
       "      <td>2020-12-14</td>\n",
       "      <td>26124.0</td>\n",
       "      <td>22716.0</td>\n",
       "      <td>3971.0</td>\n",
       "      <td>0.0</td>\n",
       "      <td>4324.0</td>\n",
       "      <td>4324.0</td>\n",
       "      <td>0.01</td>\n",
       "      <td>0.01</td>\n",
       "      <td>0.00</td>\n",
       "      <td>0.00</td>\n",
       "      <td>13.0</td>\n",
       "      <td>4187.0</td>\n",
       "      <td>0.001</td>\n",
       "      <td>223</td>\n",
       "    </tr>\n",
       "    <tr>\n",
       "      <th>59530</th>\n",
       "      <td>United States</td>\n",
       "      <td>USA</td>\n",
       "      <td>2020-12-15</td>\n",
       "      <td>74833.0</td>\n",
       "      <td>69226.0</td>\n",
       "      <td>4166.0</td>\n",
       "      <td>0.0</td>\n",
       "      <td>48709.0</td>\n",
       "      <td>26516.0</td>\n",
       "      <td>0.02</td>\n",
       "      <td>0.02</td>\n",
       "      <td>0.00</td>\n",
       "      <td>0.00</td>\n",
       "      <td>79.0</td>\n",
       "      <td>25348.0</td>\n",
       "      <td>0.008</td>\n",
       "      <td>223</td>\n",
       "    </tr>\n",
       "    <tr>\n",
       "      <th>59531</th>\n",
       "      <td>United States</td>\n",
       "      <td>USA</td>\n",
       "      <td>2020-12-16</td>\n",
       "      <td>233645.0</td>\n",
       "      <td>222604.0</td>\n",
       "      <td>4548.0</td>\n",
       "      <td>0.0</td>\n",
       "      <td>158812.0</td>\n",
       "      <td>70615.0</td>\n",
       "      <td>0.07</td>\n",
       "      <td>0.07</td>\n",
       "      <td>0.00</td>\n",
       "      <td>0.00</td>\n",
       "      <td>210.0</td>\n",
       "      <td>68025.0</td>\n",
       "      <td>0.020</td>\n",
       "      <td>223</td>\n",
       "    </tr>\n",
       "    <tr>\n",
       "      <th>59532</th>\n",
       "      <td>United States</td>\n",
       "      <td>USA</td>\n",
       "      <td>2020-12-17</td>\n",
       "      <td>504183.0</td>\n",
       "      <td>486107.0</td>\n",
       "      <td>5110.0</td>\n",
       "      <td>0.0</td>\n",
       "      <td>270538.0</td>\n",
       "      <td>120596.0</td>\n",
       "      <td>0.15</td>\n",
       "      <td>0.14</td>\n",
       "      <td>0.00</td>\n",
       "      <td>0.00</td>\n",
       "      <td>359.0</td>\n",
       "      <td>116894.0</td>\n",
       "      <td>0.035</td>\n",
       "      <td>223</td>\n",
       "    </tr>\n",
       "    <tr>\n",
       "      <th>...</th>\n",
       "      <td>...</td>\n",
       "      <td>...</td>\n",
       "      <td>...</td>\n",
       "      <td>...</td>\n",
       "      <td>...</td>\n",
       "      <td>...</td>\n",
       "      <td>...</td>\n",
       "      <td>...</td>\n",
       "      <td>...</td>\n",
       "      <td>...</td>\n",
       "      <td>...</td>\n",
       "      <td>...</td>\n",
       "      <td>...</td>\n",
       "      <td>...</td>\n",
       "      <td>...</td>\n",
       "      <td>...</td>\n",
       "      <td>...</td>\n",
       "    </tr>\n",
       "    <tr>\n",
       "      <th>59867</th>\n",
       "      <td>United States</td>\n",
       "      <td>USA</td>\n",
       "      <td>2021-11-17</td>\n",
       "      <td>449028238.0</td>\n",
       "      <td>229584222.0</td>\n",
       "      <td>194561634.0</td>\n",
       "      <td>33834775.0</td>\n",
       "      <td>1479995.0</td>\n",
       "      <td>1297921.0</td>\n",
       "      <td>133.51</td>\n",
       "      <td>68.26</td>\n",
       "      <td>57.85</td>\n",
       "      <td>10.06</td>\n",
       "      <td>3859.0</td>\n",
       "      <td>444416.0</td>\n",
       "      <td>0.132</td>\n",
       "      <td>223</td>\n",
       "    </tr>\n",
       "    <tr>\n",
       "      <th>59868</th>\n",
       "      <td>United States</td>\n",
       "      <td>USA</td>\n",
       "      <td>2021-11-18</td>\n",
       "      <td>450381454.0</td>\n",
       "      <td>229972864.0</td>\n",
       "      <td>194694936.0</td>\n",
       "      <td>34677686.0</td>\n",
       "      <td>1353216.0</td>\n",
       "      <td>1288385.0</td>\n",
       "      <td>133.91</td>\n",
       "      <td>68.38</td>\n",
       "      <td>57.89</td>\n",
       "      <td>10.31</td>\n",
       "      <td>3831.0</td>\n",
       "      <td>427578.0</td>\n",
       "      <td>0.127</td>\n",
       "      <td>223</td>\n",
       "    </tr>\n",
       "    <tr>\n",
       "      <th>59869</th>\n",
       "      <td>United States</td>\n",
       "      <td>USA</td>\n",
       "      <td>2021-11-19</td>\n",
       "      <td>451355421.0</td>\n",
       "      <td>230255670.0</td>\n",
       "      <td>194788580.0</td>\n",
       "      <td>35282993.0</td>\n",
       "      <td>973967.0</td>\n",
       "      <td>1174321.0</td>\n",
       "      <td>134.20</td>\n",
       "      <td>68.46</td>\n",
       "      <td>57.92</td>\n",
       "      <td>10.49</td>\n",
       "      <td>3492.0</td>\n",
       "      <td>383614.0</td>\n",
       "      <td>0.114</td>\n",
       "      <td>223</td>\n",
       "    </tr>\n",
       "    <tr>\n",
       "      <th>59870</th>\n",
       "      <td>United States</td>\n",
       "      <td>USA</td>\n",
       "      <td>2021-11-20</td>\n",
       "      <td>451453834.0</td>\n",
       "      <td>230298744.0</td>\n",
       "      <td>194797007.0</td>\n",
       "      <td>35329604.0</td>\n",
       "      <td>98413.0</td>\n",
       "      <td>1039368.0</td>\n",
       "      <td>134.23</td>\n",
       "      <td>68.48</td>\n",
       "      <td>57.92</td>\n",
       "      <td>10.50</td>\n",
       "      <td>3090.0</td>\n",
       "      <td>321539.0</td>\n",
       "      <td>0.096</td>\n",
       "      <td>223</td>\n",
       "    </tr>\n",
       "    <tr>\n",
       "      <th>59871</th>\n",
       "      <td>United States</td>\n",
       "      <td>USA</td>\n",
       "      <td>2021-11-21</td>\n",
       "      <td>451453834.0</td>\n",
       "      <td>230298744.0</td>\n",
       "      <td>194797007.0</td>\n",
       "      <td>35329604.0</td>\n",
       "      <td>0.0</td>\n",
       "      <td>964233.0</td>\n",
       "      <td>134.23</td>\n",
       "      <td>68.48</td>\n",
       "      <td>57.92</td>\n",
       "      <td>10.50</td>\n",
       "      <td>2867.0</td>\n",
       "      <td>289854.0</td>\n",
       "      <td>0.086</td>\n",
       "      <td>223</td>\n",
       "    </tr>\n",
       "  </tbody>\n",
       "</table>\n",
       "<p>344 rows × 17 columns</p>\n",
       "</div>"
      ],
      "text/plain": [
       "            location iso_code        date  total_vaccinations  \\\n",
       "59528  United States      USA  2020-12-13             21800.0   \n",
       "59529  United States      USA  2020-12-14             26124.0   \n",
       "59530  United States      USA  2020-12-15             74833.0   \n",
       "59531  United States      USA  2020-12-16            233645.0   \n",
       "59532  United States      USA  2020-12-17            504183.0   \n",
       "...              ...      ...         ...                 ...   \n",
       "59867  United States      USA  2021-11-17         449028238.0   \n",
       "59868  United States      USA  2021-11-18         450381454.0   \n",
       "59869  United States      USA  2021-11-19         451355421.0   \n",
       "59870  United States      USA  2021-11-20         451453834.0   \n",
       "59871  United States      USA  2021-11-21         451453834.0   \n",
       "\n",
       "       people_vaccinated  people_fully_vaccinated  total_boosters  \\\n",
       "59528            18529.0                   3875.0             0.0   \n",
       "59529            22716.0                   3971.0             0.0   \n",
       "59530            69226.0                   4166.0             0.0   \n",
       "59531           222604.0                   4548.0             0.0   \n",
       "59532           486107.0                   5110.0             0.0   \n",
       "...                  ...                      ...             ...   \n",
       "59867        229584222.0              194561634.0      33834775.0   \n",
       "59868        229972864.0              194694936.0      34677686.0   \n",
       "59869        230255670.0              194788580.0      35282993.0   \n",
       "59870        230298744.0              194797007.0      35329604.0   \n",
       "59871        230298744.0              194797007.0      35329604.0   \n",
       "\n",
       "       daily_vaccinations_raw  daily_vaccinations  \\\n",
       "59528                     0.0                 0.0   \n",
       "59529                  4324.0              4324.0   \n",
       "59530                 48709.0             26516.0   \n",
       "59531                158812.0             70615.0   \n",
       "59532                270538.0            120596.0   \n",
       "...                       ...                 ...   \n",
       "59867               1479995.0           1297921.0   \n",
       "59868               1353216.0           1288385.0   \n",
       "59869                973967.0           1174321.0   \n",
       "59870                 98413.0           1039368.0   \n",
       "59871                     0.0            964233.0   \n",
       "\n",
       "       total_vaccinations_per_hundred  people_vaccinated_per_hundred  \\\n",
       "59528                            0.01                           0.01   \n",
       "59529                            0.01                           0.01   \n",
       "59530                            0.02                           0.02   \n",
       "59531                            0.07                           0.07   \n",
       "59532                            0.15                           0.14   \n",
       "...                               ...                            ...   \n",
       "59867                          133.51                          68.26   \n",
       "59868                          133.91                          68.38   \n",
       "59869                          134.20                          68.46   \n",
       "59870                          134.23                          68.48   \n",
       "59871                          134.23                          68.48   \n",
       "\n",
       "       people_fully_vaccinated_per_hundred  total_boosters_per_hundred  \\\n",
       "59528                                 0.00                        0.00   \n",
       "59529                                 0.00                        0.00   \n",
       "59530                                 0.00                        0.00   \n",
       "59531                                 0.00                        0.00   \n",
       "59532                                 0.00                        0.00   \n",
       "...                                    ...                         ...   \n",
       "59867                                57.85                       10.06   \n",
       "59868                                57.89                       10.31   \n",
       "59869                                57.92                       10.49   \n",
       "59870                                57.92                       10.50   \n",
       "59871                                57.92                       10.50   \n",
       "\n",
       "       daily_vaccinations_per_million  daily_people_vaccinated  \\\n",
       "59528                             0.0                      0.0   \n",
       "59529                            13.0                   4187.0   \n",
       "59530                            79.0                  25348.0   \n",
       "59531                           210.0                  68025.0   \n",
       "59532                           359.0                 116894.0   \n",
       "...                               ...                      ...   \n",
       "59867                          3859.0                 444416.0   \n",
       "59868                          3831.0                 427578.0   \n",
       "59869                          3492.0                 383614.0   \n",
       "59870                          3090.0                 321539.0   \n",
       "59871                          2867.0                 289854.0   \n",
       "\n",
       "       daily_people_vaccinated_per_hundred  eid  \n",
       "59528                                0.000  223  \n",
       "59529                                0.001  223  \n",
       "59530                                0.008  223  \n",
       "59531                                0.020  223  \n",
       "59532                                0.035  223  \n",
       "...                                    ...  ...  \n",
       "59867                                0.132  223  \n",
       "59868                                0.127  223  \n",
       "59869                                0.114  223  \n",
       "59870                                0.096  223  \n",
       "59871                                0.086  223  \n",
       "\n",
       "[344 rows x 17 columns]"
      ]
     },
     "execution_count": 54,
     "metadata": {},
     "output_type": "execute_result"
    }
   ],
   "source": [
    "#Country 2: United States\n",
    "ndf_usa=df_clean.loc[df_clean['eid'] == 223]\n",
    "df_usa = ndf_usa.sort_values('people_vaccinated')\n",
    "df_usa"
   ]
  },
  {
   "cell_type": "code",
   "execution_count": 55,
   "metadata": {},
   "outputs": [],
   "source": [
    "#Get the values from the column where vaccination rate of United States is stored.\n",
    "val_usa = df_usa['people_vaccinated'].values"
   ]
  },
  {
   "cell_type": "code",
   "execution_count": 56,
   "metadata": {},
   "outputs": [
    {
     "name": "stdout",
     "output_type": "stream",
     "text": [
      "Performing stepwise search to minimize aic\n",
      " ARIMA(1,2,1)(0,0,0)[0] intercept   : AIC=9525.162, Time=0.11 sec\n",
      " ARIMA(0,2,0)(0,0,0)[0] intercept   : AIC=9565.815, Time=0.02 sec\n",
      " ARIMA(1,2,0)(0,0,0)[0] intercept   : AIC=9559.425, Time=0.03 sec\n",
      " ARIMA(0,2,1)(0,0,0)[0] intercept   : AIC=9549.936, Time=0.04 sec\n",
      " ARIMA(0,2,0)(0,0,0)[0]             : AIC=9563.821, Time=0.01 sec\n",
      " ARIMA(2,2,1)(0,0,0)[0] intercept   : AIC=9437.555, Time=0.10 sec\n",
      " ARIMA(2,2,0)(0,0,0)[0] intercept   : AIC=9517.051, Time=0.04 sec\n",
      " ARIMA(3,2,1)(0,0,0)[0] intercept   : AIC=9430.940, Time=0.23 sec\n",
      " ARIMA(3,2,0)(0,0,0)[0] intercept   : AIC=9502.925, Time=0.08 sec\n",
      " ARIMA(3,2,2)(0,0,0)[0] intercept   : AIC=9485.820, Time=0.44 sec\n",
      " ARIMA(2,2,2)(0,0,0)[0] intercept   : AIC=9561.362, Time=0.29 sec\n",
      " ARIMA(3,2,1)(0,0,0)[0]             : AIC=9428.916, Time=0.21 sec\n",
      " ARIMA(2,2,1)(0,0,0)[0]             : AIC=9435.524, Time=0.09 sec\n",
      " ARIMA(3,2,0)(0,0,0)[0]             : AIC=9500.924, Time=0.07 sec\n",
      " ARIMA(3,2,2)(0,0,0)[0]             : AIC=9483.832, Time=0.74 sec\n",
      " ARIMA(2,2,0)(0,0,0)[0]             : AIC=9515.050, Time=0.03 sec\n",
      " ARIMA(2,2,2)(0,0,0)[0]             : AIC=9559.223, Time=0.29 sec\n",
      "\n",
      "Best model:  ARIMA(3,2,1)(0,0,0)[0]          \n",
      "Total fit time: 2.835 seconds\n",
      "                               SARIMAX Results                                \n",
      "==============================================================================\n",
      "Dep. Variable:                      y   No. Observations:                  344\n",
      "Model:               SARIMAX(3, 2, 1)   Log Likelihood               -4709.458\n",
      "Date:                Tue, 14 Dec 2021   AIC                           9428.916\n",
      "Time:                        19:49:34   BIC                           9448.090\n",
      "Sample:                             0   HQIC                          9436.554\n",
      "                                - 344                                         \n",
      "Covariance Type:                  opg                                         \n",
      "==============================================================================\n",
      "                 coef    std err          z      P>|z|      [0.025      0.975]\n",
      "------------------------------------------------------------------------------\n",
      "ar.L1          0.6249      0.074      8.453      0.000       0.480       0.770\n",
      "ar.L2         -0.3842      0.083     -4.618      0.000      -0.547      -0.221\n",
      "ar.L3         -0.1965      0.089     -2.206      0.027      -0.371      -0.022\n",
      "ma.L1         -0.7401      0.068    -10.949      0.000      -0.873      -0.608\n",
      "sigma2      6.704e+10   3.11e-13   2.16e+23      0.000     6.7e+10     6.7e+10\n",
      "===================================================================================\n",
      "Ljung-Box (L1) (Q):                   1.36   Jarque-Bera (JB):                36.45\n",
      "Prob(Q):                              0.24   Prob(JB):                         0.00\n",
      "Heteroskedasticity (H):               0.12   Skew:                             0.10\n",
      "Prob(H) (two-sided):                  0.00   Kurtosis:                         4.59\n",
      "===================================================================================\n",
      "\n",
      "Warnings:\n",
      "[1] Covariance matrix calculated using the outer product of gradients (complex-step).\n",
      "[2] Covariance matrix is singular or near-singular, with condition number 4.87e+39. Standard errors may be unstable.\n"
     ]
    }
   ],
   "source": [
    "model = pm.auto_arima(val_usa, start_p=1, start_q=1,\n",
    "test='adf', # use adftest to find optimal 'd'\n",
    "max_p=3, max_q=3, # maximum p and q\n",
    "m=1, # frequency of series\n",
    "d=None, # let model determine 'd'\n",
    "seasonal=False, # No Seasonality\n",
    "start_P=0,\n",
    "D=0,\n",
    "trace=True,\n",
    "error_action='ignore',\n",
    "suppress_warnings=True,\n",
    "stepwise=True)\n",
    "print(model.summary())"
   ]
  },
  {
   "cell_type": "code",
   "execution_count": 57,
   "metadata": {},
   "outputs": [
    {
     "data": {
      "image/png": "[encoded data removed]",
      "text/plain": [
       "<Figure size 504x360 with 4 Axes>"
      ]
     },
     "metadata": {
      "needs_background": "light"
     },
     "output_type": "display_data"
    }
   ],
   "source": [
    "model.plot_diagnostics(figsize=(7,5))\n",
    "plt.show()"
   ]
  },
  {
   "cell_type": "code",
   "execution_count": 58,
   "metadata": {},
   "outputs": [
    {
     "data": {
      "image/png": "[encoded data removed]",
      "text/plain": [
       "<Figure size 1440x720 with 1 Axes>"
      ]
     },
     "metadata": {
      "needs_background": "light"
     },
     "output_type": "display_data"
    }
   ],
   "source": [
    "# Forecast\n",
    "n_periods = 50\n",
    "fc, confint = model.predict(n_periods=n_periods, return_conf_int=True,alpha=0.6)\n",
    "index_of_fc = np.arange(len(val_usa), len(val_usa)+n_periods)\n",
    "\n",
    "# make series for plotting purpose\n",
    "fc_series = pd.Series(fc, index=index_of_fc)\n",
    "lower_series = pd.Series(confint[:, 0], index=index_of_fc)\n",
    "upper_series = pd.Series(confint[:, 1], index=index_of_fc)\n",
    "\n",
    "# Plot\n",
    "plt.figure(figsize=(20,10))\n",
    "plt.plot(val_usa)\n",
    "plt.plot(fc_series, color='darkgreen')\n",
    "plt.fill_between(lower_series.index,\n",
    "lower_series,\n",
    "upper_series,\n",
    "color='b', alpha=.15)\n",
    "plt.title(\"Forecast of People Vaccinated in the next 50 Days[United States]\")\n",
    "plt.show()"
   ]
  },
  {
   "cell_type": "code",
   "execution_count": 59,
   "metadata": {},
   "outputs": [
    {
     "name": "stdout",
     "output_type": "stream",
     "text": [
      "Performing stepwise search to minimize aic\n",
      " ARIMA(2,2,2)(0,0,0)[0]             : AIC=-2873.486, Time=0.42 sec\n",
      " ARIMA(0,2,0)(0,0,0)[0]             : AIC=-2814.895, Time=0.05 sec\n",
      " ARIMA(1,2,0)(0,0,0)[0]             : AIC=-2822.013, Time=0.10 sec\n",
      " ARIMA(0,2,1)(0,0,0)[0]             : AIC=-2831.921, Time=0.10 sec\n",
      " ARIMA(1,2,2)(0,0,0)[0]             : AIC=-2764.588, Time=0.24 sec\n",
      " ARIMA(2,2,1)(0,0,0)[0]             : AIC=-2946.517, Time=0.20 sec\n",
      " ARIMA(1,2,1)(0,0,0)[0]             : AIC=-2813.615, Time=0.10 sec\n",
      " ARIMA(2,2,0)(0,0,0)[0]             : AIC=-2862.667, Time=0.09 sec\n",
      " ARIMA(3,2,1)(0,0,0)[0]             : AIC=-2966.571, Time=0.70 sec\n",
      " ARIMA(3,2,0)(0,0,0)[0]             : AIC=-2878.991, Time=0.13 sec\n",
      " ARIMA(4,2,1)(0,0,0)[0]             : AIC=-2929.708, Time=0.18 sec\n",
      " ARIMA(3,2,2)(0,0,0)[0]             : AIC=-2875.468, Time=0.76 sec\n",
      " ARIMA(4,2,0)(0,0,0)[0]             : AIC=-2936.966, Time=0.13 sec\n",
      " ARIMA(4,2,2)(0,0,0)[0]             : AIC=-2987.887, Time=0.79 sec\n",
      " ARIMA(5,2,2)(0,0,0)[0]             : AIC=-3003.515, Time=0.62 sec\n",
      " ARIMA(5,2,1)(0,0,0)[0]             : AIC=-3083.660, Time=0.43 sec\n",
      " ARIMA(5,2,0)(0,0,0)[0]             : AIC=-3071.390, Time=0.10 sec\n",
      " ARIMA(5,2,1)(0,0,0)[0] intercept   : AIC=-3081.664, Time=0.61 sec\n",
      "\n",
      "Best model:  ARIMA(5,2,1)(0,0,0)[0]          \n",
      "Total fit time: 5.778 seconds\n"
     ]
    }
   ],
   "source": [
    "#power tramsfer\n",
    "power = PowerTransformer(method='box-cox')\n",
    "usa_trans = power.fit_transform(val_usa[val_usa>0].reshape(-1,1))\n",
    "model = pm.auto_arima(usa_trans, trace=True, suppress_warning=True)"
   ]
  },
  {
   "cell_type": "code",
   "execution_count": 60,
   "metadata": {},
   "outputs": [
    {
     "data": {
      "image/png": "[encoded data removed]",
      "text/plain": [
       "<Figure size 504x360 with 4 Axes>"
      ]
     },
     "metadata": {
      "needs_background": "light"
     },
     "output_type": "display_data"
    }
   ],
   "source": [
    "model.plot_diagnostics(figsize=(7,5))\n",
    "plt.show()"
   ]
  },
  {
   "cell_type": "markdown",
   "metadata": {},
   "source": [
    "Similar to the Canadian model, I also tried to use power transform to change the model. But according to the plot_diagnostics, this time the transformed data's model does not get a better residual. The autocorrelation graph shows that the pattern of this model is more obvious than the autocorrelation pattern of the original data. Therefore, the optimization of this model fails, and the prediction data is no longer continued, and the prediction data obtained by the previous model will be used."
   ]
  },
  {
   "cell_type": "code",
   "execution_count": 61,
   "metadata": {},
   "outputs": [
    {
     "name": "stdout",
     "output_type": "stream",
     "text": [
      "lower case is: 5356341.65966025 , base case is: 13705404.187097102 , upper case is: 22054466.714533955\n"
     ]
    }
   ],
   "source": [
    "base_case_usa = fc[-1]-fc[0]\n",
    "lower_case_usa = confint[:, 0][-1]-confint[:, 0][0]\n",
    "upper_case_usa = confint[:, 1][-1]-confint[:, 1][0]\n",
    "print('lower case is:',lower_case_usa,', base case is:',base_case_usa,', upper case is:',upper_case_usa)"
   ]
  },
  {
   "cell_type": "markdown",
   "metadata": {},
   "source": [
    "According to forecasts, the base case is that there are more than 13 millions people in USA will be vaccinated in the next 50 days, the upper case is that there are more than 22 millions people, and the lower case is that there are more than 5 millions people."
   ]
  },
  {
   "cell_type": "markdown",
   "metadata": {},
   "source": [
    "# 4. Relating COVID-19 Vaccination to a Second Dataset"
   ]
  },
  {
   "cell_type": "markdown",
   "metadata": {},
   "source": [
    "## Load new dataset"
   ]
  },
  {
   "cell_type": "code",
   "execution_count": 62,
   "metadata": {},
   "outputs": [
    {
     "name": "stdout",
     "output_type": "stream",
     "text": [
      "Shape of data (63006, 16)\n"
     ]
    },
    {
     "data": {
      "text/html": [
       "<div>\n",
       "<style scoped>\n",
       "    .dataframe tbody tr th:only-of-type {\n",
       "        vertical-align: middle;\n",
       "    }\n",
       "\n",
       "    .dataframe tbody tr th {\n",
       "        vertical-align: top;\n",
       "    }\n",
       "\n",
       "    .dataframe thead th {\n",
       "        text-align: right;\n",
       "    }\n",
       "</style>\n",
       "<table border=\"1\" class=\"dataframe\">\n",
       "  <thead>\n",
       "    <tr style=\"text-align: right;\">\n",
       "      <th></th>\n",
       "      <th>iso_code</th>\n",
       "      <th>continent</th>\n",
       "      <th>location</th>\n",
       "      <th>date</th>\n",
       "      <th>total_cases</th>\n",
       "      <th>new_cases</th>\n",
       "      <th>new_cases_smoothed</th>\n",
       "      <th>total_deaths</th>\n",
       "      <th>new_deaths</th>\n",
       "      <th>new_deaths_smoothed</th>\n",
       "      <th>...</th>\n",
       "      <th>female_smokers</th>\n",
       "      <th>male_smokers</th>\n",
       "      <th>handwashing_facilities</th>\n",
       "      <th>hospital_beds_per_thousand</th>\n",
       "      <th>life_expectancy</th>\n",
       "      <th>human_development_index</th>\n",
       "      <th>excess_mortality_cumulative_absolute</th>\n",
       "      <th>excess_mortality_cumulative</th>\n",
       "      <th>excess_mortality</th>\n",
       "      <th>excess_mortality_cumulative_per_million</th>\n",
       "    </tr>\n",
       "  </thead>\n",
       "  <tbody>\n",
       "    <tr>\n",
       "      <th>0</th>\n",
       "      <td>AFG</td>\n",
       "      <td>Asia</td>\n",
       "      <td>Afghanistan</td>\n",
       "      <td>2020-02-24</td>\n",
       "      <td>5.0</td>\n",
       "      <td>5.0</td>\n",
       "      <td>NaN</td>\n",
       "      <td>NaN</td>\n",
       "      <td>NaN</td>\n",
       "      <td>NaN</td>\n",
       "      <td>...</td>\n",
       "      <td>NaN</td>\n",
       "      <td>NaN</td>\n",
       "      <td>37.746</td>\n",
       "      <td>0.5</td>\n",
       "      <td>64.83</td>\n",
       "      <td>0.511</td>\n",
       "      <td>NaN</td>\n",
       "      <td>NaN</td>\n",
       "      <td>NaN</td>\n",
       "      <td>NaN</td>\n",
       "    </tr>\n",
       "    <tr>\n",
       "      <th>1</th>\n",
       "      <td>AFG</td>\n",
       "      <td>Asia</td>\n",
       "      <td>Afghanistan</td>\n",
       "      <td>2020-02-25</td>\n",
       "      <td>5.0</td>\n",
       "      <td>0.0</td>\n",
       "      <td>NaN</td>\n",
       "      <td>NaN</td>\n",
       "      <td>NaN</td>\n",
       "      <td>NaN</td>\n",
       "      <td>...</td>\n",
       "      <td>NaN</td>\n",
       "      <td>NaN</td>\n",
       "      <td>37.746</td>\n",
       "      <td>0.5</td>\n",
       "      <td>64.83</td>\n",
       "      <td>0.511</td>\n",
       "      <td>NaN</td>\n",
       "      <td>NaN</td>\n",
       "      <td>NaN</td>\n",
       "      <td>NaN</td>\n",
       "    </tr>\n",
       "    <tr>\n",
       "      <th>2</th>\n",
       "      <td>AFG</td>\n",
       "      <td>Asia</td>\n",
       "      <td>Afghanistan</td>\n",
       "      <td>2020-02-26</td>\n",
       "      <td>5.0</td>\n",
       "      <td>0.0</td>\n",
       "      <td>NaN</td>\n",
       "      <td>NaN</td>\n",
       "      <td>NaN</td>\n",
       "      <td>NaN</td>\n",
       "      <td>...</td>\n",
       "      <td>NaN</td>\n",
       "      <td>NaN</td>\n",
       "      <td>37.746</td>\n",
       "      <td>0.5</td>\n",
       "      <td>64.83</td>\n",
       "      <td>0.511</td>\n",
       "      <td>NaN</td>\n",
       "      <td>NaN</td>\n",
       "      <td>NaN</td>\n",
       "      <td>NaN</td>\n",
       "    </tr>\n",
       "    <tr>\n",
       "      <th>3</th>\n",
       "      <td>AFG</td>\n",
       "      <td>Asia</td>\n",
       "      <td>Afghanistan</td>\n",
       "      <td>2020-02-27</td>\n",
       "      <td>5.0</td>\n",
       "      <td>0.0</td>\n",
       "      <td>NaN</td>\n",
       "      <td>NaN</td>\n",
       "      <td>NaN</td>\n",
       "      <td>NaN</td>\n",
       "      <td>...</td>\n",
       "      <td>NaN</td>\n",
       "      <td>NaN</td>\n",
       "      <td>37.746</td>\n",
       "      <td>0.5</td>\n",
       "      <td>64.83</td>\n",
       "      <td>0.511</td>\n",
       "      <td>NaN</td>\n",
       "      <td>NaN</td>\n",
       "      <td>NaN</td>\n",
       "      <td>NaN</td>\n",
       "    </tr>\n",
       "    <tr>\n",
       "      <th>4</th>\n",
       "      <td>AFG</td>\n",
       "      <td>Asia</td>\n",
       "      <td>Afghanistan</td>\n",
       "      <td>2020-02-28</td>\n",
       "      <td>5.0</td>\n",
       "      <td>0.0</td>\n",
       "      <td>NaN</td>\n",
       "      <td>NaN</td>\n",
       "      <td>NaN</td>\n",
       "      <td>NaN</td>\n",
       "      <td>...</td>\n",
       "      <td>NaN</td>\n",
       "      <td>NaN</td>\n",
       "      <td>37.746</td>\n",
       "      <td>0.5</td>\n",
       "      <td>64.83</td>\n",
       "      <td>0.511</td>\n",
       "      <td>NaN</td>\n",
       "      <td>NaN</td>\n",
       "      <td>NaN</td>\n",
       "      <td>NaN</td>\n",
       "    </tr>\n",
       "  </tbody>\n",
       "</table>\n",
       "<p>5 rows × 67 columns</p>\n",
       "</div>"
      ],
      "text/plain": [
       "  iso_code continent     location        date  total_cases  new_cases  \\\n",
       "0      AFG      Asia  Afghanistan  2020-02-24          5.0        5.0   \n",
       "1      AFG      Asia  Afghanistan  2020-02-25          5.0        0.0   \n",
       "2      AFG      Asia  Afghanistan  2020-02-26          5.0        0.0   \n",
       "3      AFG      Asia  Afghanistan  2020-02-27          5.0        0.0   \n",
       "4      AFG      Asia  Afghanistan  2020-02-28          5.0        0.0   \n",
       "\n",
       "   new_cases_smoothed  total_deaths  new_deaths  new_deaths_smoothed  ...  \\\n",
       "0                 NaN           NaN         NaN                  NaN  ...   \n",
       "1                 NaN           NaN         NaN                  NaN  ...   \n",
       "2                 NaN           NaN         NaN                  NaN  ...   \n",
       "3                 NaN           NaN         NaN                  NaN  ...   \n",
       "4                 NaN           NaN         NaN                  NaN  ...   \n",
       "\n",
       "   female_smokers  male_smokers  handwashing_facilities  \\\n",
       "0             NaN           NaN                  37.746   \n",
       "1             NaN           NaN                  37.746   \n",
       "2             NaN           NaN                  37.746   \n",
       "3             NaN           NaN                  37.746   \n",
       "4             NaN           NaN                  37.746   \n",
       "\n",
       "   hospital_beds_per_thousand  life_expectancy  human_development_index  \\\n",
       "0                         0.5            64.83                    0.511   \n",
       "1                         0.5            64.83                    0.511   \n",
       "2                         0.5            64.83                    0.511   \n",
       "3                         0.5            64.83                    0.511   \n",
       "4                         0.5            64.83                    0.511   \n",
       "\n",
       "   excess_mortality_cumulative_absolute  excess_mortality_cumulative  \\\n",
       "0                                   NaN                          NaN   \n",
       "1                                   NaN                          NaN   \n",
       "2                                   NaN                          NaN   \n",
       "3                                   NaN                          NaN   \n",
       "4                                   NaN                          NaN   \n",
       "\n",
       "   excess_mortality  excess_mortality_cumulative_per_million  \n",
       "0               NaN                                      NaN  \n",
       "1               NaN                                      NaN  \n",
       "2               NaN                                      NaN  \n",
       "3               NaN                                      NaN  \n",
       "4               NaN                                      NaN  \n",
       "\n",
       "[5 rows x 67 columns]"
      ]
     },
     "execution_count": 62,
     "metadata": {},
     "output_type": "execute_result"
    }
   ],
   "source": [
    "# loading the dataset \n",
    "df2 = pd.read_csv('Complete_covid19_dataset.csv')\n",
    "print('Shape of data',df.shape)\n",
    "#see the first five of our dataframe\n",
    "df2.head()"
   ]
  },
  {
   "cell_type": "code",
   "execution_count": 63,
   "metadata": {},
   "outputs": [
    {
     "data": {
      "text/plain": [
       "Index(['iso_code', 'continent', 'location', 'date', 'total_cases', 'new_cases',\n",
       "       'new_cases_smoothed', 'total_deaths', 'new_deaths',\n",
       "       'new_deaths_smoothed', 'total_cases_per_million',\n",
       "       'new_cases_per_million', 'new_cases_smoothed_per_million',\n",
       "       'total_deaths_per_million', 'new_deaths_per_million',\n",
       "       'new_deaths_smoothed_per_million', 'reproduction_rate', 'icu_patients',\n",
       "       'icu_patients_per_million', 'hosp_patients',\n",
       "       'hosp_patients_per_million', 'weekly_icu_admissions',\n",
       "       'weekly_icu_admissions_per_million', 'weekly_hosp_admissions',\n",
       "       'weekly_hosp_admissions_per_million', 'new_tests', 'total_tests',\n",
       "       'total_tests_per_thousand', 'new_tests_per_thousand',\n",
       "       'new_tests_smoothed', 'new_tests_smoothed_per_thousand',\n",
       "       'positive_rate', 'tests_per_case', 'tests_units', 'total_vaccinations',\n",
       "       'people_vaccinated', 'people_fully_vaccinated', 'total_boosters',\n",
       "       'new_vaccinations', 'new_vaccinations_smoothed',\n",
       "       'total_vaccinations_per_hundred', 'people_vaccinated_per_hundred',\n",
       "       'people_fully_vaccinated_per_hundred', 'total_boosters_per_hundred',\n",
       "       'new_vaccinations_smoothed_per_million',\n",
       "       'new_people_vaccinated_smoothed',\n",
       "       'new_people_vaccinated_smoothed_per_hundred', 'stringency_index',\n",
       "       'population', 'population_density', 'median_age', 'aged_65_older',\n",
       "       'aged_70_older', 'gdp_per_capita', 'extreme_poverty',\n",
       "       'cardiovasc_death_rate', 'diabetes_prevalence', 'female_smokers',\n",
       "       'male_smokers', 'handwashing_facilities', 'hospital_beds_per_thousand',\n",
       "       'life_expectancy', 'human_development_index',\n",
       "       'excess_mortality_cumulative_absolute', 'excess_mortality_cumulative',\n",
       "       'excess_mortality', 'excess_mortality_cumulative_per_million'],\n",
       "      dtype='object')"
      ]
     },
     "execution_count": 63,
     "metadata": {},
     "output_type": "execute_result"
    }
   ],
   "source": [
    "df2.columns"
   ]
  },
  {
   "cell_type": "markdown",
   "metadata": {},
   "source": [
    "## Canada"
   ]
  },
  {
   "cell_type": "markdown",
   "metadata": {},
   "source": [
    "### Select Canada and one best factors of Vaccinated Rates "
   ]
  },
  {
   "cell_type": "code",
   "execution_count": 64,
   "metadata": {},
   "outputs": [],
   "source": [
    "#select Canada as countries\n",
    "#select 'new_deaths','new_deaths_smoothed','icu_patients','hosp_patients' as the alternative columns\n",
    "df_can = df2[['location', 'date','people_vaccinated_per_hundred','new_deaths','new_deaths_smoothed','icu_patients'\n",
    "              ,'hosp_patients']].loc[df2.iso_code=='CAN']"
   ]
  },
  {
   "cell_type": "code",
   "execution_count": 65,
   "metadata": {},
   "outputs": [],
   "source": [
    "#drop total_vaccinations missing data, because without this value any raw doesn't make much sense.\n",
    "df_can = df_can.drop(df_can[df_can.people_vaccinated_per_hundred.isna()].index)"
   ]
  },
  {
   "cell_type": "markdown",
   "metadata": {},
   "source": [
    "### Use Statistical Correlation(Pearson correlation, Kendall rank correlation, and Spearman correlation) to find best columns"
   ]
  },
  {
   "cell_type": "code",
   "execution_count": 66,
   "metadata": {},
   "outputs": [
    {
     "data": {
      "text/html": [
       "<div>\n",
       "<style scoped>\n",
       "    .dataframe tbody tr th:only-of-type {\n",
       "        vertical-align: middle;\n",
       "    }\n",
       "\n",
       "    .dataframe tbody tr th {\n",
       "        vertical-align: top;\n",
       "    }\n",
       "\n",
       "    .dataframe thead th {\n",
       "        text-align: right;\n",
       "    }\n",
       "</style>\n",
       "<table border=\"1\" class=\"dataframe\">\n",
       "  <thead>\n",
       "    <tr style=\"text-align: right;\">\n",
       "      <th></th>\n",
       "      <th>people_vaccinated_per_hundred</th>\n",
       "      <th>new_deaths</th>\n",
       "      <th>new_deaths_smoothed</th>\n",
       "      <th>icu_patients</th>\n",
       "      <th>hosp_patients</th>\n",
       "    </tr>\n",
       "  </thead>\n",
       "  <tbody>\n",
       "    <tr>\n",
       "      <th>people_vaccinated_per_hundred</th>\n",
       "      <td>1.000000</td>\n",
       "      <td>-0.645114</td>\n",
       "      <td>-0.718951</td>\n",
       "      <td>-0.378377</td>\n",
       "      <td>-0.670918</td>\n",
       "    </tr>\n",
       "    <tr>\n",
       "      <th>new_deaths</th>\n",
       "      <td>-0.645114</td>\n",
       "      <td>1.000000</td>\n",
       "      <td>0.912172</td>\n",
       "      <td>0.359297</td>\n",
       "      <td>0.735601</td>\n",
       "    </tr>\n",
       "    <tr>\n",
       "      <th>new_deaths_smoothed</th>\n",
       "      <td>-0.718951</td>\n",
       "      <td>0.912172</td>\n",
       "      <td>1.000000</td>\n",
       "      <td>0.388133</td>\n",
       "      <td>0.791665</td>\n",
       "    </tr>\n",
       "    <tr>\n",
       "      <th>icu_patients</th>\n",
       "      <td>-0.378377</td>\n",
       "      <td>0.359297</td>\n",
       "      <td>0.388133</td>\n",
       "      <td>1.000000</td>\n",
       "      <td>0.835209</td>\n",
       "    </tr>\n",
       "    <tr>\n",
       "      <th>hosp_patients</th>\n",
       "      <td>-0.670918</td>\n",
       "      <td>0.735601</td>\n",
       "      <td>0.791665</td>\n",
       "      <td>0.835209</td>\n",
       "      <td>1.000000</td>\n",
       "    </tr>\n",
       "  </tbody>\n",
       "</table>\n",
       "</div>"
      ],
      "text/plain": [
       "                               people_vaccinated_per_hundred  new_deaths  \\\n",
       "people_vaccinated_per_hundred                       1.000000   -0.645114   \n",
       "new_deaths                                         -0.645114    1.000000   \n",
       "new_deaths_smoothed                                -0.718951    0.912172   \n",
       "icu_patients                                       -0.378377    0.359297   \n",
       "hosp_patients                                      -0.670918    0.735601   \n",
       "\n",
       "                               new_deaths_smoothed  icu_patients  \\\n",
       "people_vaccinated_per_hundred            -0.718951     -0.378377   \n",
       "new_deaths                                0.912172      0.359297   \n",
       "new_deaths_smoothed                       1.000000      0.388133   \n",
       "icu_patients                              0.388133      1.000000   \n",
       "hosp_patients                             0.791665      0.835209   \n",
       "\n",
       "                               hosp_patients  \n",
       "people_vaccinated_per_hundred      -0.670918  \n",
       "new_deaths                          0.735601  \n",
       "new_deaths_smoothed                 0.791665  \n",
       "icu_patients                        0.835209  \n",
       "hosp_patients                       1.000000  "
      ]
     },
     "execution_count": 66,
     "metadata": {},
     "output_type": "execute_result"
    }
   ],
   "source": [
    "df_can.corr(method='pearson')"
   ]
  },
  {
   "cell_type": "code",
   "execution_count": 67,
   "metadata": {},
   "outputs": [
    {
     "data": {
      "text/html": [
       "<div>\n",
       "<style scoped>\n",
       "    .dataframe tbody tr th:only-of-type {\n",
       "        vertical-align: middle;\n",
       "    }\n",
       "\n",
       "    .dataframe tbody tr th {\n",
       "        vertical-align: top;\n",
       "    }\n",
       "\n",
       "    .dataframe thead th {\n",
       "        text-align: right;\n",
       "    }\n",
       "</style>\n",
       "<table border=\"1\" class=\"dataframe\">\n",
       "  <thead>\n",
       "    <tr style=\"text-align: right;\">\n",
       "      <th></th>\n",
       "      <th>people_vaccinated_per_hundred</th>\n",
       "      <th>new_deaths</th>\n",
       "      <th>new_deaths_smoothed</th>\n",
       "      <th>icu_patients</th>\n",
       "      <th>hosp_patients</th>\n",
       "    </tr>\n",
       "  </thead>\n",
       "  <tbody>\n",
       "    <tr>\n",
       "      <th>people_vaccinated_per_hundred</th>\n",
       "      <td>1.000000</td>\n",
       "      <td>-0.434784</td>\n",
       "      <td>-0.479324</td>\n",
       "      <td>-0.255259</td>\n",
       "      <td>-0.403058</td>\n",
       "    </tr>\n",
       "    <tr>\n",
       "      <th>new_deaths</th>\n",
       "      <td>-0.434784</td>\n",
       "      <td>1.000000</td>\n",
       "      <td>0.672362</td>\n",
       "      <td>0.445780</td>\n",
       "      <td>0.598558</td>\n",
       "    </tr>\n",
       "    <tr>\n",
       "      <th>new_deaths_smoothed</th>\n",
       "      <td>-0.479324</td>\n",
       "      <td>0.672362</td>\n",
       "      <td>1.000000</td>\n",
       "      <td>0.599117</td>\n",
       "      <td>0.763463</td>\n",
       "    </tr>\n",
       "    <tr>\n",
       "      <th>icu_patients</th>\n",
       "      <td>-0.255259</td>\n",
       "      <td>0.445780</td>\n",
       "      <td>0.599117</td>\n",
       "      <td>1.000000</td>\n",
       "      <td>0.740898</td>\n",
       "    </tr>\n",
       "    <tr>\n",
       "      <th>hosp_patients</th>\n",
       "      <td>-0.403058</td>\n",
       "      <td>0.598558</td>\n",
       "      <td>0.763463</td>\n",
       "      <td>0.740898</td>\n",
       "      <td>1.000000</td>\n",
       "    </tr>\n",
       "  </tbody>\n",
       "</table>\n",
       "</div>"
      ],
      "text/plain": [
       "                               people_vaccinated_per_hundred  new_deaths  \\\n",
       "people_vaccinated_per_hundred                       1.000000   -0.434784   \n",
       "new_deaths                                         -0.434784    1.000000   \n",
       "new_deaths_smoothed                                -0.479324    0.672362   \n",
       "icu_patients                                       -0.255259    0.445780   \n",
       "hosp_patients                                      -0.403058    0.598558   \n",
       "\n",
       "                               new_deaths_smoothed  icu_patients  \\\n",
       "people_vaccinated_per_hundred            -0.479324     -0.255259   \n",
       "new_deaths                                0.672362      0.445780   \n",
       "new_deaths_smoothed                       1.000000      0.599117   \n",
       "icu_patients                              0.599117      1.000000   \n",
       "hosp_patients                             0.763463      0.740898   \n",
       "\n",
       "                               hosp_patients  \n",
       "people_vaccinated_per_hundred      -0.403058  \n",
       "new_deaths                          0.598558  \n",
       "new_deaths_smoothed                 0.763463  \n",
       "icu_patients                        0.740898  \n",
       "hosp_patients                       1.000000  "
      ]
     },
     "execution_count": 67,
     "metadata": {},
     "output_type": "execute_result"
    }
   ],
   "source": [
    "df_can.corr(method='kendall')"
   ]
  },
  {
   "cell_type": "code",
   "execution_count": 68,
   "metadata": {},
   "outputs": [
    {
     "data": {
      "text/html": [
       "<div>\n",
       "<style scoped>\n",
       "    .dataframe tbody tr th:only-of-type {\n",
       "        vertical-align: middle;\n",
       "    }\n",
       "\n",
       "    .dataframe tbody tr th {\n",
       "        vertical-align: top;\n",
       "    }\n",
       "\n",
       "    .dataframe thead th {\n",
       "        text-align: right;\n",
       "    }\n",
       "</style>\n",
       "<table border=\"1\" class=\"dataframe\">\n",
       "  <thead>\n",
       "    <tr style=\"text-align: right;\">\n",
       "      <th></th>\n",
       "      <th>people_vaccinated_per_hundred</th>\n",
       "      <th>new_deaths</th>\n",
       "      <th>new_deaths_smoothed</th>\n",
       "      <th>icu_patients</th>\n",
       "      <th>hosp_patients</th>\n",
       "    </tr>\n",
       "  </thead>\n",
       "  <tbody>\n",
       "    <tr>\n",
       "      <th>people_vaccinated_per_hundred</th>\n",
       "      <td>1.000000</td>\n",
       "      <td>-0.592139</td>\n",
       "      <td>-0.661712</td>\n",
       "      <td>-0.415821</td>\n",
       "      <td>-0.605150</td>\n",
       "    </tr>\n",
       "    <tr>\n",
       "      <th>new_deaths</th>\n",
       "      <td>-0.592139</td>\n",
       "      <td>1.000000</td>\n",
       "      <td>0.846349</td>\n",
       "      <td>0.630481</td>\n",
       "      <td>0.792535</td>\n",
       "    </tr>\n",
       "    <tr>\n",
       "      <th>new_deaths_smoothed</th>\n",
       "      <td>-0.661712</td>\n",
       "      <td>0.846349</td>\n",
       "      <td>1.000000</td>\n",
       "      <td>0.763303</td>\n",
       "      <td>0.918363</td>\n",
       "    </tr>\n",
       "    <tr>\n",
       "      <th>icu_patients</th>\n",
       "      <td>-0.415821</td>\n",
       "      <td>0.630481</td>\n",
       "      <td>0.763303</td>\n",
       "      <td>1.000000</td>\n",
       "      <td>0.898615</td>\n",
       "    </tr>\n",
       "    <tr>\n",
       "      <th>hosp_patients</th>\n",
       "      <td>-0.605150</td>\n",
       "      <td>0.792535</td>\n",
       "      <td>0.918363</td>\n",
       "      <td>0.898615</td>\n",
       "      <td>1.000000</td>\n",
       "    </tr>\n",
       "  </tbody>\n",
       "</table>\n",
       "</div>"
      ],
      "text/plain": [
       "                               people_vaccinated_per_hundred  new_deaths  \\\n",
       "people_vaccinated_per_hundred                       1.000000   -0.592139   \n",
       "new_deaths                                         -0.592139    1.000000   \n",
       "new_deaths_smoothed                                -0.661712    0.846349   \n",
       "icu_patients                                       -0.415821    0.630481   \n",
       "hosp_patients                                      -0.605150    0.792535   \n",
       "\n",
       "                               new_deaths_smoothed  icu_patients  \\\n",
       "people_vaccinated_per_hundred            -0.661712     -0.415821   \n",
       "new_deaths                                0.846349      0.630481   \n",
       "new_deaths_smoothed                       1.000000      0.763303   \n",
       "icu_patients                              0.763303      1.000000   \n",
       "hosp_patients                             0.918363      0.898615   \n",
       "\n",
       "                               hosp_patients  \n",
       "people_vaccinated_per_hundred      -0.605150  \n",
       "new_deaths                          0.792535  \n",
       "new_deaths_smoothed                 0.918363  \n",
       "icu_patients                        0.898615  \n",
       "hosp_patients                       1.000000  "
      ]
     },
     "execution_count": 68,
     "metadata": {},
     "output_type": "execute_result"
    }
   ],
   "source": [
    "df_can.corr(method='spearman')"
   ]
  },
  {
   "cell_type": "markdown",
   "metadata": {},
   "source": [
    "According to all the statistical correlation results, 'new_deaths_smoothed' is the best factor of Vaccinated rate in the Canada Dataset."
   ]
  },
  {
   "cell_type": "code",
   "execution_count": 69,
   "metadata": {},
   "outputs": [],
   "source": [
    "df_can = df_can[['people_vaccinated_per_hundred','new_deaths_smoothed']]"
   ]
  },
  {
   "cell_type": "code",
   "execution_count": 70,
   "metadata": {},
   "outputs": [],
   "source": [
    "can = df_can.sort_values('people_vaccinated_per_hundred')"
   ]
  },
  {
   "cell_type": "markdown",
   "metadata": {},
   "source": [
    "### EDA"
   ]
  },
  {
   "cell_type": "code",
   "execution_count": 71,
   "metadata": {},
   "outputs": [
    {
     "data": {
      "image/png": "[encoded data removed]",
      "text/plain": [
       "<Figure size 432x288 with 1 Axes>"
      ]
     },
     "metadata": {
      "needs_background": "light"
     },
     "output_type": "display_data"
    }
   ],
   "source": [
    "plt.plot(can.people_vaccinated_per_hundred,can.new_deaths_smoothed)\n",
    "plt.xlabel('people_vaccinated_per_hundred')\n",
    "plt.ylabel('new_deaths_smoothed')\n",
    "plt.title('Vaccinated Rate vs New Death in CAN')\n",
    "plt.show()"
   ]
  },
  {
   "cell_type": "markdown",
   "metadata": {},
   "source": [
    "### Implement an ML model(Linear Regression Model)"
   ]
  },
  {
   "cell_type": "code",
   "execution_count": 72,
   "metadata": {},
   "outputs": [],
   "source": [
    "X = can.people_vaccinated_per_hundred\n",
    "y = can.new_deaths_smoothed\n",
    "#split train test \n",
    "X_train, X_test, y_train, y_test = train_test_split(X, y, test_size=0.2, random_state=0)"
   ]
  },
  {
   "cell_type": "code",
   "execution_count": 73,
   "metadata": {},
   "outputs": [
    {
     "data": {
      "text/plain": [
       "LinearRegression()"
      ]
     },
     "execution_count": 73,
     "metadata": {},
     "output_type": "execute_result"
    }
   ],
   "source": [
    "regressor = LinearRegression()  \n",
    "regressor.fit(X_train.values.reshape(-1, 1), y_train)"
   ]
  },
  {
   "cell_type": "code",
   "execution_count": 74,
   "metadata": {},
   "outputs": [
    {
     "name": "stdout",
     "output_type": "stream",
     "text": [
      "86.83124408904695\n",
      "[-0.90770267]\n"
     ]
    }
   ],
   "source": [
    "#To retrieve the intercept:\n",
    "print(regressor.intercept_)\n",
    "\n",
    "#For retrieving the slope:\n",
    "print(regressor.coef_)"
   ]
  },
  {
   "cell_type": "code",
   "execution_count": 75,
   "metadata": {},
   "outputs": [],
   "source": [
    "y_pred = regressor.predict(X.values.reshape(-1, 1))"
   ]
  },
  {
   "cell_type": "markdown",
   "metadata": {},
   "source": [
    "### Result"
   ]
  },
  {
   "cell_type": "code",
   "execution_count": 76,
   "metadata": {},
   "outputs": [
    {
     "data": {
      "image/png": "[encoded data removed]",
      "text/plain": [
       "<Figure size 432x288 with 1 Axes>"
      ]
     },
     "metadata": {
      "needs_background": "light"
     },
     "output_type": "display_data"
    }
   ],
   "source": [
    "plt.scatter(X, y, color='gray') \n",
    "plt.plot(X, y_pred, color='red', linewidth=2) \n",
    "plt.xlabel('people_vaccinated_per_hundred')\n",
    "plt.ylabel('new_deaths_smoothed')\n",
    "plt.title('Vaccinated Rate vs New Death in CAN')\n",
    "plt.show()"
   ]
  },
  {
   "cell_type": "markdown",
   "metadata": {},
   "source": [
    "## United States"
   ]
  },
  {
   "cell_type": "code",
   "execution_count": 77,
   "metadata": {},
   "outputs": [],
   "source": [
    "#select United States as countries\n",
    "#select 'new_deaths','new_deaths_smoothed','icu_patients','hosp_patients' as the alternative columns\n",
    "df_usa = df2[['location', 'date','people_vaccinated_per_hundred','new_deaths','new_deaths_smoothed'\n",
    "              ,'icu_patients','hosp_patients']].loc[df2.iso_code=='USA']"
   ]
  },
  {
   "cell_type": "code",
   "execution_count": 78,
   "metadata": {},
   "outputs": [],
   "source": [
    "#drop total_vaccinations missing data, because without this value any raw doesn't make much sense.\n",
    "df_usa = df_usa.drop(df_usa[df_usa.people_vaccinated_per_hundred.isna()].index)"
   ]
  },
  {
   "cell_type": "markdown",
   "metadata": {},
   "source": [
    "### Use Statistical Correlation(Pearson correlation, Kendall rank correlation, and Spearman correlation) to find best columns"
   ]
  },
  {
   "cell_type": "code",
   "execution_count": 79,
   "metadata": {},
   "outputs": [
    {
     "data": {
      "text/html": [
       "<div>\n",
       "<style scoped>\n",
       "    .dataframe tbody tr th:only-of-type {\n",
       "        vertical-align: middle;\n",
       "    }\n",
       "\n",
       "    .dataframe tbody tr th {\n",
       "        vertical-align: top;\n",
       "    }\n",
       "\n",
       "    .dataframe thead th {\n",
       "        text-align: right;\n",
       "    }\n",
       "</style>\n",
       "<table border=\"1\" class=\"dataframe\">\n",
       "  <thead>\n",
       "    <tr style=\"text-align: right;\">\n",
       "      <th></th>\n",
       "      <th>people_vaccinated_per_hundred</th>\n",
       "      <th>new_deaths</th>\n",
       "      <th>new_deaths_smoothed</th>\n",
       "      <th>icu_patients</th>\n",
       "      <th>hosp_patients</th>\n",
       "    </tr>\n",
       "  </thead>\n",
       "  <tbody>\n",
       "    <tr>\n",
       "      <th>people_vaccinated_per_hundred</th>\n",
       "      <td>1.000000</td>\n",
       "      <td>-0.533759</td>\n",
       "      <td>-0.668563</td>\n",
       "      <td>-0.351944</td>\n",
       "      <td>-0.479319</td>\n",
       "    </tr>\n",
       "    <tr>\n",
       "      <th>new_deaths</th>\n",
       "      <td>-0.533759</td>\n",
       "      <td>1.000000</td>\n",
       "      <td>0.820711</td>\n",
       "      <td>0.692719</td>\n",
       "      <td>0.710825</td>\n",
       "    </tr>\n",
       "    <tr>\n",
       "      <th>new_deaths_smoothed</th>\n",
       "      <td>-0.668563</td>\n",
       "      <td>0.820711</td>\n",
       "      <td>1.000000</td>\n",
       "      <td>0.798083</td>\n",
       "      <td>0.816408</td>\n",
       "    </tr>\n",
       "    <tr>\n",
       "      <th>icu_patients</th>\n",
       "      <td>-0.351944</td>\n",
       "      <td>0.692719</td>\n",
       "      <td>0.798083</td>\n",
       "      <td>1.000000</td>\n",
       "      <td>0.983900</td>\n",
       "    </tr>\n",
       "    <tr>\n",
       "      <th>hosp_patients</th>\n",
       "      <td>-0.479319</td>\n",
       "      <td>0.710825</td>\n",
       "      <td>0.816408</td>\n",
       "      <td>0.983900</td>\n",
       "      <td>1.000000</td>\n",
       "    </tr>\n",
       "  </tbody>\n",
       "</table>\n",
       "</div>"
      ],
      "text/plain": [
       "                               people_vaccinated_per_hundred  new_deaths  \\\n",
       "people_vaccinated_per_hundred                       1.000000   -0.533759   \n",
       "new_deaths                                         -0.533759    1.000000   \n",
       "new_deaths_smoothed                                -0.668563    0.820711   \n",
       "icu_patients                                       -0.351944    0.692719   \n",
       "hosp_patients                                      -0.479319    0.710825   \n",
       "\n",
       "                               new_deaths_smoothed  icu_patients  \\\n",
       "people_vaccinated_per_hundred            -0.668563     -0.351944   \n",
       "new_deaths                                0.820711      0.692719   \n",
       "new_deaths_smoothed                       1.000000      0.798083   \n",
       "icu_patients                              0.798083      1.000000   \n",
       "hosp_patients                             0.816408      0.983900   \n",
       "\n",
       "                               hosp_patients  \n",
       "people_vaccinated_per_hundred      -0.479319  \n",
       "new_deaths                          0.710825  \n",
       "new_deaths_smoothed                 0.816408  \n",
       "icu_patients                        0.983900  \n",
       "hosp_patients                       1.000000  "
      ]
     },
     "execution_count": 79,
     "metadata": {},
     "output_type": "execute_result"
    }
   ],
   "source": [
    "df_usa.corr(method='pearson')"
   ]
  },
  {
   "cell_type": "code",
   "execution_count": 80,
   "metadata": {},
   "outputs": [
    {
     "data": {
      "text/html": [
       "<div>\n",
       "<style scoped>\n",
       "    .dataframe tbody tr th:only-of-type {\n",
       "        vertical-align: middle;\n",
       "    }\n",
       "\n",
       "    .dataframe tbody tr th {\n",
       "        vertical-align: top;\n",
       "    }\n",
       "\n",
       "    .dataframe thead th {\n",
       "        text-align: right;\n",
       "    }\n",
       "</style>\n",
       "<table border=\"1\" class=\"dataframe\">\n",
       "  <thead>\n",
       "    <tr style=\"text-align: right;\">\n",
       "      <th></th>\n",
       "      <th>people_vaccinated_per_hundred</th>\n",
       "      <th>new_deaths</th>\n",
       "      <th>new_deaths_smoothed</th>\n",
       "      <th>icu_patients</th>\n",
       "      <th>hosp_patients</th>\n",
       "    </tr>\n",
       "  </thead>\n",
       "  <tbody>\n",
       "    <tr>\n",
       "      <th>people_vaccinated_per_hundred</th>\n",
       "      <td>1.000000</td>\n",
       "      <td>-0.251797</td>\n",
       "      <td>-0.298432</td>\n",
       "      <td>-0.162488</td>\n",
       "      <td>-0.198554</td>\n",
       "    </tr>\n",
       "    <tr>\n",
       "      <th>new_deaths</th>\n",
       "      <td>-0.251797</td>\n",
       "      <td>1.000000</td>\n",
       "      <td>0.634984</td>\n",
       "      <td>0.520162</td>\n",
       "      <td>0.528137</td>\n",
       "    </tr>\n",
       "    <tr>\n",
       "      <th>new_deaths_smoothed</th>\n",
       "      <td>-0.298432</td>\n",
       "      <td>0.634984</td>\n",
       "      <td>1.000000</td>\n",
       "      <td>0.641031</td>\n",
       "      <td>0.653935</td>\n",
       "    </tr>\n",
       "    <tr>\n",
       "      <th>icu_patients</th>\n",
       "      <td>-0.162488</td>\n",
       "      <td>0.520162</td>\n",
       "      <td>0.641031</td>\n",
       "      <td>1.000000</td>\n",
       "      <td>0.943546</td>\n",
       "    </tr>\n",
       "    <tr>\n",
       "      <th>hosp_patients</th>\n",
       "      <td>-0.198554</td>\n",
       "      <td>0.528137</td>\n",
       "      <td>0.653935</td>\n",
       "      <td>0.943546</td>\n",
       "      <td>1.000000</td>\n",
       "    </tr>\n",
       "  </tbody>\n",
       "</table>\n",
       "</div>"
      ],
      "text/plain": [
       "                               people_vaccinated_per_hundred  new_deaths  \\\n",
       "people_vaccinated_per_hundred                       1.000000   -0.251797   \n",
       "new_deaths                                         -0.251797    1.000000   \n",
       "new_deaths_smoothed                                -0.298432    0.634984   \n",
       "icu_patients                                       -0.162488    0.520162   \n",
       "hosp_patients                                      -0.198554    0.528137   \n",
       "\n",
       "                               new_deaths_smoothed  icu_patients  \\\n",
       "people_vaccinated_per_hundred            -0.298432     -0.162488   \n",
       "new_deaths                                0.634984      0.520162   \n",
       "new_deaths_smoothed                       1.000000      0.641031   \n",
       "icu_patients                              0.641031      1.000000   \n",
       "hosp_patients                             0.653935      0.943546   \n",
       "\n",
       "                               hosp_patients  \n",
       "people_vaccinated_per_hundred      -0.198554  \n",
       "new_deaths                          0.528137  \n",
       "new_deaths_smoothed                 0.653935  \n",
       "icu_patients                        0.943546  \n",
       "hosp_patients                       1.000000  "
      ]
     },
     "execution_count": 80,
     "metadata": {},
     "output_type": "execute_result"
    }
   ],
   "source": [
    "df_usa.corr(method='kendall')"
   ]
  },
  {
   "cell_type": "code",
   "execution_count": 81,
   "metadata": {},
   "outputs": [
    {
     "data": {
      "text/html": [
       "<div>\n",
       "<style scoped>\n",
       "    .dataframe tbody tr th:only-of-type {\n",
       "        vertical-align: middle;\n",
       "    }\n",
       "\n",
       "    .dataframe tbody tr th {\n",
       "        vertical-align: top;\n",
       "    }\n",
       "\n",
       "    .dataframe thead th {\n",
       "        text-align: right;\n",
       "    }\n",
       "</style>\n",
       "<table border=\"1\" class=\"dataframe\">\n",
       "  <thead>\n",
       "    <tr style=\"text-align: right;\">\n",
       "      <th></th>\n",
       "      <th>people_vaccinated_per_hundred</th>\n",
       "      <th>new_deaths</th>\n",
       "      <th>new_deaths_smoothed</th>\n",
       "      <th>icu_patients</th>\n",
       "      <th>hosp_patients</th>\n",
       "    </tr>\n",
       "  </thead>\n",
       "  <tbody>\n",
       "    <tr>\n",
       "      <th>people_vaccinated_per_hundred</th>\n",
       "      <td>1.000000</td>\n",
       "      <td>-0.321846</td>\n",
       "      <td>-0.366596</td>\n",
       "      <td>-0.136951</td>\n",
       "      <td>-0.187423</td>\n",
       "    </tr>\n",
       "    <tr>\n",
       "      <th>new_deaths</th>\n",
       "      <td>-0.321846</td>\n",
       "      <td>1.000000</td>\n",
       "      <td>0.819144</td>\n",
       "      <td>0.702295</td>\n",
       "      <td>0.709472</td>\n",
       "    </tr>\n",
       "    <tr>\n",
       "      <th>new_deaths_smoothed</th>\n",
       "      <td>-0.366596</td>\n",
       "      <td>0.819144</td>\n",
       "      <td>1.000000</td>\n",
       "      <td>0.824439</td>\n",
       "      <td>0.828391</td>\n",
       "    </tr>\n",
       "    <tr>\n",
       "      <th>icu_patients</th>\n",
       "      <td>-0.136951</td>\n",
       "      <td>0.702295</td>\n",
       "      <td>0.824439</td>\n",
       "      <td>1.000000</td>\n",
       "      <td>0.994686</td>\n",
       "    </tr>\n",
       "    <tr>\n",
       "      <th>hosp_patients</th>\n",
       "      <td>-0.187423</td>\n",
       "      <td>0.709472</td>\n",
       "      <td>0.828391</td>\n",
       "      <td>0.994686</td>\n",
       "      <td>1.000000</td>\n",
       "    </tr>\n",
       "  </tbody>\n",
       "</table>\n",
       "</div>"
      ],
      "text/plain": [
       "                               people_vaccinated_per_hundred  new_deaths  \\\n",
       "people_vaccinated_per_hundred                       1.000000   -0.321846   \n",
       "new_deaths                                         -0.321846    1.000000   \n",
       "new_deaths_smoothed                                -0.366596    0.819144   \n",
       "icu_patients                                       -0.136951    0.702295   \n",
       "hosp_patients                                      -0.187423    0.709472   \n",
       "\n",
       "                               new_deaths_smoothed  icu_patients  \\\n",
       "people_vaccinated_per_hundred            -0.366596     -0.136951   \n",
       "new_deaths                                0.819144      0.702295   \n",
       "new_deaths_smoothed                       1.000000      0.824439   \n",
       "icu_patients                              0.824439      1.000000   \n",
       "hosp_patients                             0.828391      0.994686   \n",
       "\n",
       "                               hosp_patients  \n",
       "people_vaccinated_per_hundred      -0.187423  \n",
       "new_deaths                          0.709472  \n",
       "new_deaths_smoothed                 0.828391  \n",
       "icu_patients                        0.994686  \n",
       "hosp_patients                       1.000000  "
      ]
     },
     "execution_count": 81,
     "metadata": {},
     "output_type": "execute_result"
    }
   ],
   "source": [
    "df_usa.corr(method='spearman')"
   ]
  },
  {
   "cell_type": "markdown",
   "metadata": {},
   "source": [
    "According to all the statistical correlation results, 'new_deaths_smoothed' is the best factor of Vaccinated rate in the United States Dataset."
   ]
  },
  {
   "cell_type": "code",
   "execution_count": 82,
   "metadata": {},
   "outputs": [],
   "source": [
    "df_usa = df_usa[['people_vaccinated_per_hundred','new_deaths_smoothed']]"
   ]
  },
  {
   "cell_type": "code",
   "execution_count": 83,
   "metadata": {},
   "outputs": [],
   "source": [
    "usa = df_usa.sort_values('people_vaccinated_per_hundred')"
   ]
  },
  {
   "cell_type": "markdown",
   "metadata": {},
   "source": [
    "## EDA"
   ]
  },
  {
   "cell_type": "code",
   "execution_count": 84,
   "metadata": {},
   "outputs": [
    {
     "data": {
      "image/png": "[encoded data removed]",
      "text/plain": [
       "<Figure size 432x288 with 1 Axes>"
      ]
     },
     "metadata": {
      "needs_background": "light"
     },
     "output_type": "display_data"
    }
   ],
   "source": [
    "plt.plot(usa.people_vaccinated_per_hundred,usa.new_deaths_smoothed)\n",
    "plt.xlabel('people_vaccinated_per_hundred')\n",
    "plt.ylabel('new_deaths_smoothed')\n",
    "plt.title('Vaccinated Rate vs New Death in USA')\n",
    "plt.show()"
   ]
  },
  {
   "cell_type": "markdown",
   "metadata": {},
   "source": [
    "### Implement an ML model(Linear Regression Model)"
   ]
  },
  {
   "cell_type": "code",
   "execution_count": 85,
   "metadata": {},
   "outputs": [],
   "source": [
    "X = usa.people_vaccinated_per_hundred\n",
    "y = usa.new_deaths_smoothed\n",
    "#split train test \n",
    "X_train, X_test, y_train, y_test = train_test_split(X, y, test_size=0.2, random_state=0)"
   ]
  },
  {
   "cell_type": "code",
   "execution_count": 86,
   "metadata": {},
   "outputs": [
    {
     "data": {
      "text/plain": [
       "LinearRegression()"
      ]
     },
     "execution_count": 86,
     "metadata": {},
     "output_type": "execute_result"
    }
   ],
   "source": [
    "regressor = LinearRegression()  \n",
    "regressor.fit(X_train.values.reshape(-1, 1), y_train)"
   ]
  },
  {
   "cell_type": "code",
   "execution_count": 87,
   "metadata": {},
   "outputs": [
    {
     "name": "stdout",
     "output_type": "stream",
     "text": [
      "2513.257612983786\n",
      "[-26.89544956]\n"
     ]
    }
   ],
   "source": [
    "#To retrieve the intercept:\n",
    "print(regressor.intercept_)\n",
    "\n",
    "#For retrieving the slope:\n",
    "print(regressor.coef_)"
   ]
  },
  {
   "cell_type": "code",
   "execution_count": 88,
   "metadata": {},
   "outputs": [],
   "source": [
    "y_pred = regressor.predict(X.values.reshape(-1, 1))"
   ]
  },
  {
   "cell_type": "code",
   "execution_count": 89,
   "metadata": {},
   "outputs": [
    {
     "data": {
      "image/png": "[encoded data removed]",
      "text/plain": [
       "<Figure size 432x288 with 1 Axes>"
      ]
     },
     "metadata": {
      "needs_background": "light"
     },
     "output_type": "display_data"
    }
   ],
   "source": [
    "plt.scatter(X, y, color='gray') \n",
    "plt.plot(X, y_pred, color='red', linewidth=2) \n",
    "plt.xlabel('people_vaccinated_per_hundred')\n",
    "plt.ylabel('new_deaths_smoothed')\n",
    "plt.title('Vaccinated Rate vs New Death in CAN')\n",
    "plt.show()"
   ]
  },
  {
   "cell_type": "markdown",
   "metadata": {},
   "source": [
    "# 5. Deriving insights about the effect of vaccination and discussion"
   ]
  },
  {
   "cell_type": "markdown",
   "metadata": {},
   "source": [
    "## Result of Part 3"
   ]
  },
  {
   "cell_type": "markdown",
   "metadata": {},
   "source": [
    "In the third part, according to the prediction results of the number of vaccinations in the two countries in the next 50 days, the result of the base case in the United States is 13 millions people, while the prediction result of the base case of Canada is 560,000. The result of the third part Tell me that the number of people vaccinated in the United States in the next 50 days is approximately 20 times the number in Canada. But consider the different population in these two countries, I need to remove the effect of the population."
   ]
  },
  {
   "cell_type": "code",
   "execution_count": 90,
   "metadata": {},
   "outputs": [],
   "source": [
    "#Get the population of Canada and United States\n",
    "can_population = list(df2.population.loc[df2.iso_code=='CAN'])[0]\n",
    "usa_population = list(df2.population.loc[df2.iso_code=='USA'])[0]"
   ]
  },
  {
   "cell_type": "code",
   "execution_count": 91,
   "metadata": {},
   "outputs": [],
   "source": [
    "can_vacc_rate = base_case_can/can_population\n",
    "usa_vacc_rate = base_case_usa/usa_population"
   ]
  },
  {
   "cell_type": "code",
   "execution_count": 92,
   "metadata": {},
   "outputs": [
    {
     "name": "stdout",
     "output_type": "stream",
     "text": [
      "Canada predict vaccinated rate is 0.014920338529705743 , United States predict vaccinated rate is 0.04116786909774203\n"
     ]
    }
   ],
   "source": [
    "print('Canada predict vaccinated rate is',can_vacc_rate,', United States predict vaccinated rate is',usa_vacc_rate)"
   ]
  },
  {
   "cell_type": "markdown",
   "metadata": {},
   "source": [
    "After dividing the forecast number by the country’s population, the result of the United States is still higher than that of Canada. Now, I can say that the United States' vaccinated program is more effective."
   ]
  },
  {
   "cell_type": "markdown",
   "metadata": {},
   "source": [
    "## Result of Part 4"
   ]
  },
  {
   "cell_type": "markdown",
   "metadata": {},
   "source": [
    "According to the statistical results of the vaccination rate and the new death of the two countries in the fourth part tells me that one of the most relevant factors for vaccination rates is the new mortality rate. Comparing the results of the statistical results, the correlation between the new death and the vaccination rate in Canada is stronger than the United States.\n",
    "\n",
    "When analyzing the correlation between the number of new deaths and vaccination rates in Canada and the United States by machine learning model, it was found that the absolute value of the slope of the fitted line obtained by linear regression in the United States was larger. This shows that with the implementation of the US vaccine program, the new mortality rate in the United States has fallen faster. "
   ]
  },
  {
   "cell_type": "markdown",
   "metadata": {},
   "source": [
    "## Conclusion"
   ]
  },
  {
   "cell_type": "markdown",
   "metadata": {},
   "source": [
    "Overall, the part 3 and part 4 results both illustrate that the United States' vaccinated program is more effective. In addition, part 4 proved that the most correlation factor in Complete_covid19_dataset.csv is new_deaths_smoothed."
   ]
  }
 ],
 "metadata": {
  "colab": {
   "name": "li_1007508724_finalproject.ipynb",
   "provenance": []
  },
  "kernelspec": {
   "display_name": "Python 3",
   "language": "python",
   "name": "python3"
  },
  "language_info": {
   "codemirror_mode": {
    "name": "ipython",
    "version": 3
   },
   "file_extension": ".py",
   "mimetype": "text/x-python",
   "name": "python",
   "nbconvert_exporter": "python",
   "pygments_lexer": "ipython3",
   "version": "3.8.8"
  }
 },
 "nbformat": 4,
 "nbformat_minor": 1
}
